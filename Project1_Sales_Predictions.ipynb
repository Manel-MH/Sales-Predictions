{
  "nbformat": 4,
  "nbformat_minor": 0,
  "metadata": {
    "colab": {
      "name": "Project1_Sales_Predictions.ipynb",
      "provenance": [],
      "collapsed_sections": [],
      "mount_file_id": "1qze8YKyvBb9gqXjZ_QTMh5PiImpGTReI",
      "authorship_tag": "ABX9TyMMWKKgB82eE9y/hAGFqM0I",
      "include_colab_link": true
    },
    "kernelspec": {
      "name": "python3",
      "display_name": "Python 3"
    },
    "language_info": {
      "name": "python"
    }
  },
  "cells": [
    {
      "cell_type": "markdown",
      "metadata": {
        "id": "view-in-github",
        "colab_type": "text"
      },
      "source": [
        "<a href=\"https://colab.research.google.com/github/Manel-MH/Sales-Predictions/blob/main/Project1_Sales_Predictions.ipynb\" target=\"_parent\"><img src=\"https://colab.research.google.com/assets/colab-badge.svg\" alt=\"Open In Colab\"/></a>"
      ]
    },
    {
      "cell_type": "markdown",
      "metadata": {
        "id": "0wnMPGqrdulG"
      },
      "source": [
        "Week 1 Part 1 \n",
        "\n",
        "Mount Drive "
      ]
    },
    {
      "cell_type": "code",
      "metadata": {
        "colab": {
          "base_uri": "https://localhost:8080/"
        },
        "id": "SdI4_N7sd5XW",
        "outputId": "736e8a10-2fe9-4557-dd4d-21d030b2e6f6"
      },
      "source": [
        "from google.colab import drive\n",
        "drive.mount('/content/drive')"
      ],
      "execution_count": 1,
      "outputs": [
        {
          "output_type": "stream",
          "text": [
            "Drive already mounted at /content/drive; to attempt to forcibly remount, call drive.mount(\"/content/drive\", force_remount=True).\n"
          ],
          "name": "stdout"
        }
      ]
    },
    {
      "cell_type": "markdown",
      "metadata": {
        "id": "zfEF34Mddkrx"
      },
      "source": [
        "Import Libraries"
      ]
    },
    {
      "cell_type": "code",
      "metadata": {
        "id": "AVKp1Za3d9cF"
      },
      "source": [
        "#import libraries\n",
        "import pandas as pd\n",
        "import numpy as np"
      ],
      "execution_count": 2,
      "outputs": []
    },
    {
      "cell_type": "markdown",
      "metadata": {
        "id": "OWOWUiVydijF"
      },
      "source": [
        "Load Data"
      ]
    },
    {
      "cell_type": "code",
      "metadata": {
        "colab": {
          "base_uri": "https://localhost:8080/",
          "height": 476
        },
        "id": "dQhYAl3XeIEW",
        "outputId": "ed8a642c-e670-4490-cf07-ade4d687b509"
      },
      "source": [
        "#create a file name \n",
        "SalesPredictions = \"/content/drive/MyDrive/Colab Notebooks/datasets/sales_predictions.csv\"\n",
        "#load data \n",
        "df_SalesPredictions = pd.read_csv(SalesPredictions)\n",
        "#check head of data\n",
        "print(df_SalesPredictions.head())\n",
        "#check tail of data\n",
        "print(df_SalesPredictions.tail())\n",
        "#check data as df\n",
        "df_SalesPredictions.head()"
      ],
      "execution_count": 3,
      "outputs": [
        {
          "output_type": "stream",
          "text": [
            "  Item_Identifier  Item_Weight  ...        Outlet_Type  Item_Outlet_Sales\n",
            "0           FDA15         9.30  ...  Supermarket Type1          3735.1380\n",
            "1           DRC01         5.92  ...  Supermarket Type2           443.4228\n",
            "2           FDN15        17.50  ...  Supermarket Type1          2097.2700\n",
            "3           FDX07        19.20  ...      Grocery Store           732.3800\n",
            "4           NCD19         8.93  ...  Supermarket Type1           994.7052\n",
            "\n",
            "[5 rows x 12 columns]\n",
            "     Item_Identifier  Item_Weight  ...        Outlet_Type  Item_Outlet_Sales\n",
            "8518           FDF22        6.865  ...  Supermarket Type1          2778.3834\n",
            "8519           FDS36        8.380  ...  Supermarket Type1           549.2850\n",
            "8520           NCJ29       10.600  ...  Supermarket Type1          1193.1136\n",
            "8521           FDN46        7.210  ...  Supermarket Type2          1845.5976\n",
            "8522           DRG01       14.800  ...  Supermarket Type1           765.6700\n",
            "\n",
            "[5 rows x 12 columns]\n"
          ],
          "name": "stdout"
        },
        {
          "output_type": "execute_result",
          "data": {
            "text/html": [
              "<div>\n",
              "<style scoped>\n",
              "    .dataframe tbody tr th:only-of-type {\n",
              "        vertical-align: middle;\n",
              "    }\n",
              "\n",
              "    .dataframe tbody tr th {\n",
              "        vertical-align: top;\n",
              "    }\n",
              "\n",
              "    .dataframe thead th {\n",
              "        text-align: right;\n",
              "    }\n",
              "</style>\n",
              "<table border=\"1\" class=\"dataframe\">\n",
              "  <thead>\n",
              "    <tr style=\"text-align: right;\">\n",
              "      <th></th>\n",
              "      <th>Item_Identifier</th>\n",
              "      <th>Item_Weight</th>\n",
              "      <th>Item_Fat_Content</th>\n",
              "      <th>Item_Visibility</th>\n",
              "      <th>Item_Type</th>\n",
              "      <th>Item_MRP</th>\n",
              "      <th>Outlet_Identifier</th>\n",
              "      <th>Outlet_Establishment_Year</th>\n",
              "      <th>Outlet_Size</th>\n",
              "      <th>Outlet_Location_Type</th>\n",
              "      <th>Outlet_Type</th>\n",
              "      <th>Item_Outlet_Sales</th>\n",
              "    </tr>\n",
              "  </thead>\n",
              "  <tbody>\n",
              "    <tr>\n",
              "      <th>0</th>\n",
              "      <td>FDA15</td>\n",
              "      <td>9.30</td>\n",
              "      <td>Low Fat</td>\n",
              "      <td>0.016047</td>\n",
              "      <td>Dairy</td>\n",
              "      <td>249.8092</td>\n",
              "      <td>OUT049</td>\n",
              "      <td>1999</td>\n",
              "      <td>Medium</td>\n",
              "      <td>Tier 1</td>\n",
              "      <td>Supermarket Type1</td>\n",
              "      <td>3735.1380</td>\n",
              "    </tr>\n",
              "    <tr>\n",
              "      <th>1</th>\n",
              "      <td>DRC01</td>\n",
              "      <td>5.92</td>\n",
              "      <td>Regular</td>\n",
              "      <td>0.019278</td>\n",
              "      <td>Soft Drinks</td>\n",
              "      <td>48.2692</td>\n",
              "      <td>OUT018</td>\n",
              "      <td>2009</td>\n",
              "      <td>Medium</td>\n",
              "      <td>Tier 3</td>\n",
              "      <td>Supermarket Type2</td>\n",
              "      <td>443.4228</td>\n",
              "    </tr>\n",
              "    <tr>\n",
              "      <th>2</th>\n",
              "      <td>FDN15</td>\n",
              "      <td>17.50</td>\n",
              "      <td>Low Fat</td>\n",
              "      <td>0.016760</td>\n",
              "      <td>Meat</td>\n",
              "      <td>141.6180</td>\n",
              "      <td>OUT049</td>\n",
              "      <td>1999</td>\n",
              "      <td>Medium</td>\n",
              "      <td>Tier 1</td>\n",
              "      <td>Supermarket Type1</td>\n",
              "      <td>2097.2700</td>\n",
              "    </tr>\n",
              "    <tr>\n",
              "      <th>3</th>\n",
              "      <td>FDX07</td>\n",
              "      <td>19.20</td>\n",
              "      <td>Regular</td>\n",
              "      <td>0.000000</td>\n",
              "      <td>Fruits and Vegetables</td>\n",
              "      <td>182.0950</td>\n",
              "      <td>OUT010</td>\n",
              "      <td>1998</td>\n",
              "      <td>NaN</td>\n",
              "      <td>Tier 3</td>\n",
              "      <td>Grocery Store</td>\n",
              "      <td>732.3800</td>\n",
              "    </tr>\n",
              "    <tr>\n",
              "      <th>4</th>\n",
              "      <td>NCD19</td>\n",
              "      <td>8.93</td>\n",
              "      <td>Low Fat</td>\n",
              "      <td>0.000000</td>\n",
              "      <td>Household</td>\n",
              "      <td>53.8614</td>\n",
              "      <td>OUT013</td>\n",
              "      <td>1987</td>\n",
              "      <td>High</td>\n",
              "      <td>Tier 3</td>\n",
              "      <td>Supermarket Type1</td>\n",
              "      <td>994.7052</td>\n",
              "    </tr>\n",
              "  </tbody>\n",
              "</table>\n",
              "</div>"
            ],
            "text/plain": [
              "  Item_Identifier  Item_Weight  ...        Outlet_Type  Item_Outlet_Sales\n",
              "0           FDA15         9.30  ...  Supermarket Type1          3735.1380\n",
              "1           DRC01         5.92  ...  Supermarket Type2           443.4228\n",
              "2           FDN15        17.50  ...  Supermarket Type1          2097.2700\n",
              "3           FDX07        19.20  ...      Grocery Store           732.3800\n",
              "4           NCD19         8.93  ...  Supermarket Type1           994.7052\n",
              "\n",
              "[5 rows x 12 columns]"
            ]
          },
          "metadata": {
            "tags": []
          },
          "execution_count": 3
        }
      ]
    },
    {
      "cell_type": "markdown",
      "metadata": {
        "id": "CZTxh_yUgu3-"
      },
      "source": [
        "Week 2 Part 2\n",
        "\n",
        "Explore Data"
      ]
    },
    {
      "cell_type": "markdown",
      "metadata": {
        "id": "jWHBY7heh-8M"
      },
      "source": [
        "Check columns datatype in df_SalesPredictions"
      ]
    },
    {
      "cell_type": "code",
      "metadata": {
        "colab": {
          "base_uri": "https://localhost:8080/"
        },
        "id": "WkhsWyrNg0dp",
        "outputId": "7629c149-776f-4453-9c15-64e0ba59881e"
      },
      "source": [
        "#check info on df_SalesPredictions\n",
        "df_SalesPredictions.info()"
      ],
      "execution_count": 4,
      "outputs": [
        {
          "output_type": "stream",
          "text": [
            "<class 'pandas.core.frame.DataFrame'>\n",
            "RangeIndex: 8523 entries, 0 to 8522\n",
            "Data columns (total 12 columns):\n",
            " #   Column                     Non-Null Count  Dtype  \n",
            "---  ------                     --------------  -----  \n",
            " 0   Item_Identifier            8523 non-null   object \n",
            " 1   Item_Weight                7060 non-null   float64\n",
            " 2   Item_Fat_Content           8523 non-null   object \n",
            " 3   Item_Visibility            8523 non-null   float64\n",
            " 4   Item_Type                  8523 non-null   object \n",
            " 5   Item_MRP                   8523 non-null   float64\n",
            " 6   Outlet_Identifier          8523 non-null   object \n",
            " 7   Outlet_Establishment_Year  8523 non-null   int64  \n",
            " 8   Outlet_Size                6113 non-null   object \n",
            " 9   Outlet_Location_Type       8523 non-null   object \n",
            " 10  Outlet_Type                8523 non-null   object \n",
            " 11  Item_Outlet_Sales          8523 non-null   float64\n",
            "dtypes: float64(4), int64(1), object(7)\n",
            "memory usage: 799.2+ KB\n"
          ],
          "name": "stdout"
        }
      ]
    },
    {
      "cell_type": "markdown",
      "metadata": {
        "id": "oLwKGGPWiDPM"
      },
      "source": [
        "Check shape of df_SalesPredictions"
      ]
    },
    {
      "cell_type": "code",
      "metadata": {
        "colab": {
          "base_uri": "https://localhost:8080/"
        },
        "id": "dqQuA95OhnXn",
        "outputId": "f47f17d5-62df-466b-af12-99e5a42cc370"
      },
      "source": [
        "#check shape of df_SalesPredictions\n",
        "#this output gives us numbers of (rows, columns)\n",
        "df_SalesPredictions.shape"
      ],
      "execution_count": 5,
      "outputs": [
        {
          "output_type": "execute_result",
          "data": {
            "text/plain": [
              "(8523, 12)"
            ]
          },
          "metadata": {
            "tags": []
          },
          "execution_count": 5
        }
      ]
    },
    {
      "cell_type": "markdown",
      "metadata": {
        "id": "XbZQY_yJi74B"
      },
      "source": [
        "Check for and remove any duplicates in df_SalesPredictions"
      ]
    },
    {
      "cell_type": "code",
      "metadata": {
        "colab": {
          "base_uri": "https://localhost:8080/"
        },
        "id": "WdWa6vxbi-QF",
        "outputId": "08d3da10-b233-4f4e-a4f2-994c17f0381d"
      },
      "source": [
        "df_SalesPredictions.duplicated().any()"
      ],
      "execution_count": 6,
      "outputs": [
        {
          "output_type": "execute_result",
          "data": {
            "text/plain": [
              "False"
            ]
          },
          "metadata": {
            "tags": []
          },
          "execution_count": 6
        }
      ]
    },
    {
      "cell_type": "code",
      "metadata": {
        "colab": {
          "base_uri": "https://localhost:8080/"
        },
        "id": "IbTtHjjJjO8v",
        "outputId": "14eae17d-051f-4138-bf14-7e632f7ddb7e"
      },
      "source": [
        "print('There are no duplicated rows (repeated data points) in this dataset.')"
      ],
      "execution_count": 7,
      "outputs": [
        {
          "output_type": "stream",
          "text": [
            "There are no duplicated rows (repeated data points) in this dataset.\n"
          ],
          "name": "stdout"
        }
      ]
    },
    {
      "cell_type": "markdown",
      "metadata": {
        "id": "y48F2_dWjliG"
      },
      "source": [
        "Check for missing values"
      ]
    },
    {
      "cell_type": "code",
      "metadata": {
        "colab": {
          "base_uri": "https://localhost:8080/"
        },
        "id": "a7o011t-kRpE",
        "outputId": "7322f454-f313-4380-a696-e7e8cf269545"
      },
      "source": [
        "#is there missing values ?\n",
        "#we always want .isnull().sum() to return zero\n",
        "#.isnull().sum() != 0, we have missing values\n",
        "df_SalesPredictions.isnull().sum()"
      ],
      "execution_count": 8,
      "outputs": [
        {
          "output_type": "execute_result",
          "data": {
            "text/plain": [
              "Item_Identifier                 0\n",
              "Item_Weight                  1463\n",
              "Item_Fat_Content                0\n",
              "Item_Visibility                 0\n",
              "Item_Type                       0\n",
              "Item_MRP                        0\n",
              "Outlet_Identifier               0\n",
              "Outlet_Establishment_Year       0\n",
              "Outlet_Size                  2410\n",
              "Outlet_Location_Type            0\n",
              "Outlet_Type                     0\n",
              "Item_Outlet_Sales               0\n",
              "dtype: int64"
            ]
          },
          "metadata": {
            "tags": []
          },
          "execution_count": 8
        }
      ]
    },
    {
      "cell_type": "code",
      "metadata": {
        "colab": {
          "base_uri": "https://localhost:8080/"
        },
        "id": "FVpyJqx6knfP",
        "outputId": "477bddfd-3ddf-4fb4-ddfc-e7b8c9c6dc1e"
      },
      "source": [
        "print('There are 1463 missing values for the column Item_Weight and 2410 missing values for the column Outlet_Size.')"
      ],
      "execution_count": 9,
      "outputs": [
        {
          "output_type": "stream",
          "text": [
            "There are 1463 missing values for the column Item_Weight and 2410 missing values for the column Outlet_Size.\n"
          ],
          "name": "stdout"
        }
      ]
    },
    {
      "cell_type": "code",
      "metadata": {
        "colab": {
          "base_uri": "https://localhost:8080/"
        },
        "id": "Ff6bGdzWnHqz",
        "outputId": "02a045ba-2f6e-4d85-dcdd-7aedf84868bd"
      },
      "source": [
        "#is there irrelevant data/ mis-categorized data?\n",
        "#run a .value_counts per column\n",
        "Item_IdentifierIrr = df_SalesPredictions['Item_Identifier'].value_counts() \n",
        "Item_IdentifierIrr"
      ],
      "execution_count": 10,
      "outputs": [
        {
          "output_type": "execute_result",
          "data": {
            "text/plain": [
              "FDW13    10\n",
              "FDG33    10\n",
              "FDV38     9\n",
              "FDF52     9\n",
              "FDU12     9\n",
              "         ..\n",
              "FDC23     1\n",
              "DRF48     1\n",
              "FDY43     1\n",
              "FDE52     1\n",
              "FDT35     1\n",
              "Name: Item_Identifier, Length: 1559, dtype: int64"
            ]
          },
          "metadata": {
            "tags": []
          },
          "execution_count": 10
        }
      ]
    },
    {
      "cell_type": "code",
      "metadata": {
        "colab": {
          "base_uri": "https://localhost:8080/"
        },
        "id": "4sKVbZ6B4aUO",
        "outputId": "0d2836d7-9ace-47c6-c3e2-40ad324c3819"
      },
      "source": [
        "Item_WeightIrr = df_SalesPredictions['Item_Weight'].value_counts() \n",
        "Item_WeightIrr"
      ],
      "execution_count": 11,
      "outputs": [
        {
          "output_type": "execute_result",
          "data": {
            "text/plain": [
              "12.150    86\n",
              "17.600    82\n",
              "13.650    77\n",
              "11.800    76\n",
              "15.100    68\n",
              "          ..\n",
              "7.560      2\n",
              "9.420      1\n",
              "5.400      1\n",
              "6.520      1\n",
              "7.685      1\n",
              "Name: Item_Weight, Length: 415, dtype: int64"
            ]
          },
          "metadata": {
            "tags": []
          },
          "execution_count": 11
        }
      ]
    },
    {
      "cell_type": "code",
      "metadata": {
        "colab": {
          "base_uri": "https://localhost:8080/"
        },
        "id": "4NI5Bpf541yI",
        "outputId": "caed16b7-0af4-4bf9-8a18-cab4b734be4f"
      },
      "source": [
        "Item_Fat_ContentIrr = df_SalesPredictions['Item_Fat_Content'].value_counts()\n",
        "Item_Fat_ContentIrr \n",
        "print(Item_Fat_ContentIrr)             \n",
        "Item_VisibilityIrr = df_SalesPredictions['Item_Visibility'].value_counts()\n",
        "Item_VisibilityIrr \n",
        "print(Item_VisibilityIrr)                \n",
        "Item_TypeIrr = df_SalesPredictions['Item_Type'].value_counts() \n",
        "Item_TypeIrr\n",
        "print(Item_TypeIrr)                     \n",
        "Item_MRPIrr = df_SalesPredictions['Item_MRP'].value_counts()\n",
        "Item_MRPIrr\n",
        "print(Item_MRPIrr)                         \n",
        "Outlet_IdentifierIrr = df_SalesPredictions['Outlet_Identifier'].value_counts()\n",
        "Outlet_IdentifierIrr \n",
        "print(Outlet_IdentifierIrr)               \n",
        "Outlet_Establishment_YearIrr = df_SalesPredictions['Outlet_Establishment_Year'].value_counts()\n",
        "Outlet_Establishment_YearIrr\n",
        "print(Outlet_Establishment_YearIrr)        \n",
        "Outlet_SizeIrr = df_SalesPredictions['Outlet_Size'].value_counts()\n",
        "Outlet_SizeIrr \n",
        "print(Outlet_SizeIrr)                  \n",
        "Outlet_Location_TypeIrr = df_SalesPredictions['Outlet_Location_Type'].value_counts()\n",
        "Outlet_Location_TypeIrr \n",
        "print(Outlet_Location_TypeIrr)             \n",
        "Outlet_TypeIrr = df_SalesPredictions['Outlet_Type'].value_counts()\n",
        "Outlet_TypeIrr \n",
        "print(Outlet_TypeIrr)                     \n",
        "Item_Outlet_SalesIrr = df_SalesPredictions['Item_Outlet_Sales'].value_counts()\n",
        "Item_Outlet_SalesIrr \n",
        "print(Item_Outlet_SalesIrr)    "
      ],
      "execution_count": 12,
      "outputs": [
        {
          "output_type": "stream",
          "text": [
            "Low Fat    5089\n",
            "Regular    2889\n",
            "LF          316\n",
            "reg         117\n",
            "low fat     112\n",
            "Name: Item_Fat_Content, dtype: int64\n",
            "0.000000    526\n",
            "0.076975      3\n",
            "0.041283      2\n",
            "0.085622      2\n",
            "0.187841      2\n",
            "           ... \n",
            "0.092576      1\n",
            "0.067544      1\n",
            "0.115168      1\n",
            "0.146896      1\n",
            "0.050902      1\n",
            "Name: Item_Visibility, Length: 7880, dtype: int64\n",
            "Fruits and Vegetables    1232\n",
            "Snack Foods              1200\n",
            "Household                 910\n",
            "Frozen Foods              856\n",
            "Dairy                     682\n",
            "Canned                    649\n",
            "Baking Goods              648\n",
            "Health and Hygiene        520\n",
            "Soft Drinks               445\n",
            "Meat                      425\n",
            "Breads                    251\n",
            "Hard Drinks               214\n",
            "Others                    169\n",
            "Starchy Foods             148\n",
            "Breakfast                 110\n",
            "Seafood                    64\n",
            "Name: Item_Type, dtype: int64\n",
            "172.0422    7\n",
            "188.1872    6\n",
            "170.5422    6\n",
            "109.5228    6\n",
            "196.5084    6\n",
            "           ..\n",
            "212.8218    1\n",
            "190.3872    1\n",
            "162.6868    1\n",
            "189.1214    1\n",
            "51.3008     1\n",
            "Name: Item_MRP, Length: 5938, dtype: int64\n",
            "OUT027    935\n",
            "OUT013    932\n",
            "OUT049    930\n",
            "OUT046    930\n",
            "OUT035    930\n",
            "OUT045    929\n",
            "OUT018    928\n",
            "OUT017    926\n",
            "OUT010    555\n",
            "OUT019    528\n",
            "Name: Outlet_Identifier, dtype: int64\n",
            "1985    1463\n",
            "1987     932\n",
            "1999     930\n",
            "1997     930\n",
            "2004     930\n",
            "2002     929\n",
            "2009     928\n",
            "2007     926\n",
            "1998     555\n",
            "Name: Outlet_Establishment_Year, dtype: int64\n",
            "Medium    2793\n",
            "Small     2388\n",
            "High       932\n",
            "Name: Outlet_Size, dtype: int64\n",
            "Tier 3    3350\n",
            "Tier 2    2785\n",
            "Tier 1    2388\n",
            "Name: Outlet_Location_Type, dtype: int64\n",
            "Supermarket Type1    5577\n",
            "Grocery Store        1083\n",
            "Supermarket Type3     935\n",
            "Supermarket Type2     928\n",
            "Name: Outlet_Type, dtype: int64\n",
            "958.7520     17\n",
            "1342.2528    16\n",
            "1845.5976    15\n",
            "703.0848     15\n",
            "1278.3360    14\n",
            "             ..\n",
            "3167.8764     1\n",
            "2226.4352     1\n",
            "1684.4740     1\n",
            "1574.6170     1\n",
            "6692.6216     1\n",
            "Name: Item_Outlet_Sales, Length: 3493, dtype: int64\n"
          ],
          "name": "stdout"
        }
      ]
    },
    {
      "cell_type": "markdown",
      "metadata": {
        "id": "HCxxUiYL8U9y"
      },
      "source": [
        "Clean up the Item_Fat_Content"
      ]
    },
    {
      "cell_type": "markdown",
      "metadata": {
        "id": "1jT4z_zR8cWZ"
      },
      "source": [
        "A .value.counts() on the column Item_Fat_Content turns up that the categories Low Fat or Regular are not reported uniformaly throughout the dataset. We need to have this uniform. We will change all entries into Low Fat or Regular where appropriate."
      ]
    },
    {
      "cell_type": "code",
      "metadata": {
        "id": "VhNmMstP88yW"
      },
      "source": [
        "#we need only two categories Low Fat or Regular\n",
        "#replacing values of cells in particular column\n",
        "df_SalesPredictions['Item_Fat_Content'].replace(['low fat','LF','reg'],['Low Fat','Low Fat','Regular'],inplace = True)"
      ],
      "execution_count": 13,
      "outputs": []
    },
    {
      "cell_type": "code",
      "metadata": {
        "colab": {
          "base_uri": "https://localhost:8080/"
        },
        "id": "5sO-94o48tdR",
        "outputId": "62a0b7c2-704b-4421-bb52-e9d60a6ad3ef"
      },
      "source": [
        "Item_Fat_ContentIrr = df_SalesPredictions['Item_Fat_Content'].value_counts()\n",
        "Item_Fat_ContentIrr \n",
        "print(Item_Fat_ContentIrr)    "
      ],
      "execution_count": 14,
      "outputs": [
        {
          "output_type": "stream",
          "text": [
            "Low Fat    5517\n",
            "Regular    3006\n",
            "Name: Item_Fat_Content, dtype: int64\n"
          ],
          "name": "stdout"
        }
      ]
    },
    {
      "cell_type": "markdown",
      "metadata": {
        "id": "eVEVYyBeDSlz"
      },
      "source": [
        "Strategy to handle missing values"
      ]
    },
    {
      "cell_type": "code",
      "metadata": {
        "id": "yX1_nfe8vCHu"
      },
      "source": [
        "# continuous variable Item_Weight\n",
        "# filling missing values \n",
        "# with mean column values\n",
        "# create a variable mean and assign it the mean of the column Item_Weight\n",
        "mean = df_SalesPredictions['Item_Weight'].mean()\n",
        "df_SalesPredictions['Item_Weight'].fillna(value = mean, inplace=True)"
      ],
      "execution_count": 15,
      "outputs": []
    },
    {
      "cell_type": "code",
      "metadata": {
        "id": "uV9ycuLPDkhy",
        "colab": {
          "base_uri": "https://localhost:8080/"
        },
        "outputId": "cff079ba-1e19-4a26-d2e9-1bda710db0ed"
      },
      "source": [
        "# to check if I managed to handle missing values\n",
        "# .isnull().sum() != 0, we have missing values\n",
        "df_SalesPredictions.isnull().sum()"
      ],
      "execution_count": 16,
      "outputs": [
        {
          "output_type": "execute_result",
          "data": {
            "text/plain": [
              "Item_Identifier                 0\n",
              "Item_Weight                     0\n",
              "Item_Fat_Content                0\n",
              "Item_Visibility                 0\n",
              "Item_Type                       0\n",
              "Item_MRP                        0\n",
              "Outlet_Identifier               0\n",
              "Outlet_Establishment_Year       0\n",
              "Outlet_Size                  2410\n",
              "Outlet_Location_Type            0\n",
              "Outlet_Type                     0\n",
              "Item_Outlet_Sales               0\n",
              "dtype: int64"
            ]
          },
          "metadata": {
            "tags": []
          },
          "execution_count": 16
        }
      ]
    },
    {
      "cell_type": "code",
      "metadata": {
        "id": "YhiJfxbU3pfQ"
      },
      "source": [
        "#categorical variable Outlet_Size\n",
        "#Treat missing data as just another category : Unknown\n",
        "df_SalesPredictions['Outlet_Size'].fillna('unknown', inplace=True)"
      ],
      "execution_count": 17,
      "outputs": []
    },
    {
      "cell_type": "code",
      "metadata": {
        "colab": {
          "base_uri": "https://localhost:8080/"
        },
        "id": "KDozKg5Y-GOr",
        "outputId": "f1b9f520-6edb-450a-98e5-6e6222760969"
      },
      "source": [
        "Outlet_SizeIrr = df_SalesPredictions['Outlet_Size'].value_counts()\n",
        "Outlet_SizeIrr \n",
        "print(Outlet_SizeIrr)"
      ],
      "execution_count": 18,
      "outputs": [
        {
          "output_type": "stream",
          "text": [
            "Medium     2793\n",
            "unknown    2410\n",
            "Small      2388\n",
            "High        932\n",
            "Name: Outlet_Size, dtype: int64\n"
          ],
          "name": "stdout"
        }
      ]
    },
    {
      "cell_type": "markdown",
      "metadata": {
        "id": "uIDxwqGVxlEd"
      },
      "source": [
        "Some stats"
      ]
    },
    {
      "cell_type": "code",
      "metadata": {
        "colab": {
          "base_uri": "https://localhost:8080/",
          "height": 297
        },
        "id": "tCXSMQMQvfvi",
        "outputId": "4c49efdb-ffd4-46d6-d791-ed0e6a34ecca"
      },
      "source": [
        "#stats on the dataframe\n",
        "#DESCRIBE - statistical summary of each column, such as count, column mean value, column standard deviation\n",
        "#Note: item visibility needs to be multiplied by 100; the best column to look at stats summary is Item_Oulet_Sales\n",
        "df_SalesPredictions.describe()"
      ],
      "execution_count": 19,
      "outputs": [
        {
          "output_type": "execute_result",
          "data": {
            "text/html": [
              "<div>\n",
              "<style scoped>\n",
              "    .dataframe tbody tr th:only-of-type {\n",
              "        vertical-align: middle;\n",
              "    }\n",
              "\n",
              "    .dataframe tbody tr th {\n",
              "        vertical-align: top;\n",
              "    }\n",
              "\n",
              "    .dataframe thead th {\n",
              "        text-align: right;\n",
              "    }\n",
              "</style>\n",
              "<table border=\"1\" class=\"dataframe\">\n",
              "  <thead>\n",
              "    <tr style=\"text-align: right;\">\n",
              "      <th></th>\n",
              "      <th>Item_Weight</th>\n",
              "      <th>Item_Visibility</th>\n",
              "      <th>Item_MRP</th>\n",
              "      <th>Outlet_Establishment_Year</th>\n",
              "      <th>Item_Outlet_Sales</th>\n",
              "    </tr>\n",
              "  </thead>\n",
              "  <tbody>\n",
              "    <tr>\n",
              "      <th>count</th>\n",
              "      <td>8523.000000</td>\n",
              "      <td>8523.000000</td>\n",
              "      <td>8523.000000</td>\n",
              "      <td>8523.000000</td>\n",
              "      <td>8523.000000</td>\n",
              "    </tr>\n",
              "    <tr>\n",
              "      <th>mean</th>\n",
              "      <td>12.857645</td>\n",
              "      <td>0.066132</td>\n",
              "      <td>140.992782</td>\n",
              "      <td>1997.831867</td>\n",
              "      <td>2181.288914</td>\n",
              "    </tr>\n",
              "    <tr>\n",
              "      <th>std</th>\n",
              "      <td>4.226124</td>\n",
              "      <td>0.051598</td>\n",
              "      <td>62.275067</td>\n",
              "      <td>8.371760</td>\n",
              "      <td>1706.499616</td>\n",
              "    </tr>\n",
              "    <tr>\n",
              "      <th>min</th>\n",
              "      <td>4.555000</td>\n",
              "      <td>0.000000</td>\n",
              "      <td>31.290000</td>\n",
              "      <td>1985.000000</td>\n",
              "      <td>33.290000</td>\n",
              "    </tr>\n",
              "    <tr>\n",
              "      <th>25%</th>\n",
              "      <td>9.310000</td>\n",
              "      <td>0.026989</td>\n",
              "      <td>93.826500</td>\n",
              "      <td>1987.000000</td>\n",
              "      <td>834.247400</td>\n",
              "    </tr>\n",
              "    <tr>\n",
              "      <th>50%</th>\n",
              "      <td>12.857645</td>\n",
              "      <td>0.053931</td>\n",
              "      <td>143.012800</td>\n",
              "      <td>1999.000000</td>\n",
              "      <td>1794.331000</td>\n",
              "    </tr>\n",
              "    <tr>\n",
              "      <th>75%</th>\n",
              "      <td>16.000000</td>\n",
              "      <td>0.094585</td>\n",
              "      <td>185.643700</td>\n",
              "      <td>2004.000000</td>\n",
              "      <td>3101.296400</td>\n",
              "    </tr>\n",
              "    <tr>\n",
              "      <th>max</th>\n",
              "      <td>21.350000</td>\n",
              "      <td>0.328391</td>\n",
              "      <td>266.888400</td>\n",
              "      <td>2009.000000</td>\n",
              "      <td>13086.964800</td>\n",
              "    </tr>\n",
              "  </tbody>\n",
              "</table>\n",
              "</div>"
            ],
            "text/plain": [
              "       Item_Weight  ...  Item_Outlet_Sales\n",
              "count  8523.000000  ...        8523.000000\n",
              "mean     12.857645  ...        2181.288914\n",
              "std       4.226124  ...        1706.499616\n",
              "min       4.555000  ...          33.290000\n",
              "25%       9.310000  ...         834.247400\n",
              "50%      12.857645  ...        1794.331000\n",
              "75%      16.000000  ...        3101.296400\n",
              "max      21.350000  ...       13086.964800\n",
              "\n",
              "[8 rows x 5 columns]"
            ]
          },
          "metadata": {
            "tags": []
          },
          "execution_count": 19
        }
      ]
    },
    {
      "cell_type": "markdown",
      "metadata": {
        "id": "QW5zRWfH-ZZj"
      },
      "source": [
        "Week 3\n",
        "Statistical Analysis"
      ]
    },
    {
      "cell_type": "markdown",
      "metadata": {
        "id": "uE12mehpBe2d"
      },
      "source": [
        "Histogram to view the distributions of various features in your dataset.\n",
        "\n",
        "Boxplot to view statistical summaries of various features in your dataset.\n",
        "\n",
        "Heatmap of the correlation between features"
      ]
    },
    {
      "cell_type": "code",
      "metadata": {
        "id": "KHRM759dBxgu"
      },
      "source": [
        "#import libraries\n",
        "import matplotlib.pyplot as plt\n",
        "import seaborn as sns\n",
        "import pandas as pd\n",
        "import numpy as np"
      ],
      "execution_count": 20,
      "outputs": []
    },
    {
      "cell_type": "markdown",
      "metadata": {
        "id": "58mJxRHPEEtk"
      },
      "source": [
        "We will work with the numerical dtypes "
      ]
    },
    {
      "cell_type": "code",
      "metadata": {
        "id": "8ROEXHN6EgMK"
      },
      "source": [
        "#what are the dtype float64, int64 (numerical)\n",
        "#select only numerical dtype\n",
        "#Item_Weight, Item_Visibility, Item_MRP, Outlet_Establishment_Year, Item_Outlet_Sales\n",
        "#the feature to be analyzed is the target variable Item_Outlet_Sales primarily"
      ],
      "execution_count": 21,
      "outputs": []
    },
    {
      "cell_type": "code",
      "metadata": {
        "colab": {
          "base_uri": "https://localhost:8080/",
          "height": 285
        },
        "id": "rdJX5igaF9uJ",
        "outputId": "6947cc0b-6c48-4b68-a2ea-d40570361816"
      },
      "source": [
        "#histogram for Item_Outlet_Sales\n",
        "df_SalesPredictions['Item_Outlet_Sales'].hist(bins = 100)\n",
        "plt.xticks(rotation = 45)\n",
        "plt.ticklabel_format(useOffset=False, style='plain')"
      ],
      "execution_count": 22,
      "outputs": [
        {
          "output_type": "display_data",
          "data": {
            "image/png": "[encoded data removed]",
            "text/plain": [
              "<Figure size 432x288 with 1 Axes>"
            ]
          },
          "metadata": {
            "tags": [],
            "needs_background": "light"
          }
        }
      ]
    },
    {
      "cell_type": "markdown",
      "metadata": {
        "id": "MQzGC8wlIHKH"
      },
      "source": [
        "This histogram showcases the outlet sales, the X axis is the number of sales and the Y axis is the outlet sales. The distribution is skewed to the right. This means that we need to report the dataset mean, median, mode which are all different compared to a normal distribution. "
      ]
    },
    {
      "cell_type": "code",
      "metadata": {
        "colab": {
          "base_uri": "https://localhost:8080/"
        },
        "id": "uWA7s29PLIkt",
        "outputId": "7bc2bbb7-3317-4d60-cc00-a8afb5c1819c"
      },
      "source": [
        "#report mean\n",
        "print(df_SalesPredictions['Item_Outlet_Sales'].mean())\n",
        "print('The mean for the outlet sales column is $2181.30')\n",
        "#report median\n",
        "print(df_SalesPredictions['Item_Outlet_Sales'].median())\n",
        "print('The median for the outlet sales column is $1794.30')\n",
        "#report mode\n",
        "print(df_SalesPredictions['Item_Outlet_Sales'].mode())\n",
        "print('The mode for the outlet sales column is $958.75')"
      ],
      "execution_count": 23,
      "outputs": [
        {
          "output_type": "stream",
          "text": [
            "2181.2889135750365\n",
            "The mean for the outlet sales column is $2181.30\n",
            "1794.3310000000001\n",
            "The median for the outlet sales column is $1794.30\n",
            "0    958.752\n",
            "dtype: float64\n",
            "The mode for the outlet sales column is $958.75\n"
          ],
          "name": "stdout"
        }
      ]
    },
    {
      "cell_type": "markdown",
      "metadata": {
        "id": "NrFQcLCMSTTp"
      },
      "source": [
        "Let's try to extract dtype numerical columns to compare them between themselves"
      ]
    },
    {
      "cell_type": "code",
      "metadata": {
        "colab": {
          "base_uri": "https://localhost:8080/",
          "height": 349
        },
        "id": "2d6Il-fPTDWz",
        "outputId": "5a9cd6ae-40f8-4f54-e0a4-10d41db8e7d8"
      },
      "source": [
        "#select only dtype float64\n",
        "dtype_numerical = df_SalesPredictions[['Item_MRP', 'Item_Outlet_Sales', 'Item_Visibility', 'Item_Weight']]\n",
        "#correlation between dtype_numerical and heatmap\n",
        "corr = dtype_numerical.corr()\n",
        "sns.heatmap(corr, cmap= 'Blues');"
      ],
      "execution_count": 24,
      "outputs": [
        {
          "output_type": "display_data",
          "data": {
            "image/png": "[encoded data removed]",
            "text/plain": [
              "<Figure size 432x288 with 2 Axes>"
            ]
          },
          "metadata": {
            "tags": [],
            "needs_background": "light"
          }
        }
      ]
    },
    {
      "cell_type": "markdown",
      "metadata": {
        "id": "WiAOZ6mBU9-j"
      },
      "source": [
        "The heat map showcases that our outlet sales variable has a strong positive correlation with the Item_MRP variable which makes sense since the latter is the maximum retail price; the variable Item_weight is negatively correlated to the variable outlet sales as it seems the weigth has no influence on it."
      ]
    },
    {
      "cell_type": "code",
      "metadata": {
        "colab": {
          "base_uri": "https://localhost:8080/",
          "height": 525
        },
        "id": "vfFdERx0WqL5",
        "outputId": "276458de-8994-4b1d-bb9f-adf5f51e6a91"
      },
      "source": [
        "#boxplots for dtype_numerical\n",
        "fig, axs = plt.subplots(4, figsize = (8,5))\n",
        "plt1 = sns.boxplot(df_SalesPredictions['Item_MRP'], ax = axs[0]);\n",
        "plt2 = sns.boxplot(df_SalesPredictions['Item_Outlet_Sales'], ax = axs[1]);\n",
        "plt3 = sns.boxplot(df_SalesPredictions['Item_Visibility'], ax = axs[2]);\n",
        "plt4 = sns.boxplot(df_SalesPredictions['Item_Weight'], ax = axs[3]);\n",
        "plt.tight_layout()"
      ],
      "execution_count": 44,
      "outputs": [
        {
          "output_type": "stream",
          "text": [
            "/usr/local/lib/python3.7/dist-packages/seaborn/_decorators.py:43: FutureWarning: Pass the following variable as a keyword arg: x. From version 0.12, the only valid positional argument will be `data`, and passing other arguments without an explicit keyword will result in an error or misinterpretation.\n",
            "  FutureWarning\n",
            "/usr/local/lib/python3.7/dist-packages/seaborn/_decorators.py:43: FutureWarning: Pass the following variable as a keyword arg: x. From version 0.12, the only valid positional argument will be `data`, and passing other arguments without an explicit keyword will result in an error or misinterpretation.\n",
            "  FutureWarning\n",
            "/usr/local/lib/python3.7/dist-packages/seaborn/_decorators.py:43: FutureWarning: Pass the following variable as a keyword arg: x. From version 0.12, the only valid positional argument will be `data`, and passing other arguments without an explicit keyword will result in an error or misinterpretation.\n",
            "  FutureWarning\n",
            "/usr/local/lib/python3.7/dist-packages/seaborn/_decorators.py:43: FutureWarning: Pass the following variable as a keyword arg: x. From version 0.12, the only valid positional argument will be `data`, and passing other arguments without an explicit keyword will result in an error or misinterpretation.\n",
            "  FutureWarning\n"
          ],
          "name": "stderr"
        },
        {
          "output_type": "display_data",
          "data": {
            "image/png": "[encoded data removed]",
            "text/plain": [
              "<Figure size 576x360 with 4 Axes>"
            ]
          },
          "metadata": {
            "tags": [],
            "needs_background": "light"
          }
        }
      ]
    },
    {
      "cell_type": "markdown",
      "metadata": {
        "id": "8tyRZ3GyYMlO"
      },
      "source": [
        "Doing a boxplot analysis on the dtype_numerical columns showcases our finidngs that the outlet sales variable is skewed to the right with outliers spread to left. The visibilty of items seem to also be skewed to the right. since we replaced missing values in Item_Weight column with the mean value it seems correct that this boxplot is as is; "
      ]
    },
    {
      "cell_type": "markdown",
      "metadata": {
        "id": "EGDe1nOpZR3d"
      },
      "source": [
        "Another interesting thing would be to see if there is some correlation between the size of the outlet and outlet sales"
      ]
    },
    {
      "cell_type": "code",
      "metadata": {
        "colab": {
          "base_uri": "https://localhost:8080/",
          "height": 615
        },
        "id": "9Sjw1uoVZZuY",
        "outputId": "e10226c9-95b2-4713-b33c-f975affbfceb"
      },
      "source": [
        "#use groupby\n",
        "df_SalesPredictions.groupby(['Outlet_Size'])[['Item_Outlet_Sales']].mean().plot(kind='bar');\n",
        "df_SalesPredictions.groupby(['Outlet_Size'])[['Item_Outlet_Sales']].median().plot(kind='bar');"
      ],
      "execution_count": 26,
      "outputs": [
        {
          "output_type": "display_data",
          "data": {
            "image/png": "[encoded data removed]",
            "text/plain": [
              "<Figure size 432x288 with 1 Axes>"
            ]
          },
          "metadata": {
            "tags": [],
            "needs_background": "light"
          }
        },
        {
          "output_type": "display_data",
          "data": {
            "image/png": "[encoded data removed]",
            "text/plain": [
              "<Figure size 432x288 with 1 Axes>"
            ]
          },
          "metadata": {
            "tags": [],
            "needs_background": "light"
          }
        }
      ]
    },
    {
      "cell_type": "markdown",
      "metadata": {
        "id": "nOwwNtRJbjnY"
      },
      "source": [
        "Making a barchart to show the outlet sales for different outlet size, shows that Medium size outlet have the highest outlet sales."
      ]
    },
    {
      "cell_type": "markdown",
      "metadata": {
        "id": "MPWw9kYCQkyu"
      },
      "source": [
        "Week 4 Vizualisation"
      ]
    },
    {
      "cell_type": "markdown",
      "metadata": {
        "id": "QnkANYNzU9Gf"
      },
      "source": [
        " Numeric - Categorical Analysis\n",
        "\n",
        " let's do our analysis between categorical variable Outlet_Size vs the numerical variable Item_Outlet_Sales with a boxplot as well"
      ]
    },
    {
      "cell_type": "code",
      "metadata": {
        "colab": {
          "base_uri": "https://localhost:8080/",
          "height": 409
        },
        "id": "wymSl8otViZB",
        "outputId": "906bea10-86d2-4f9e-961a-df7b9969f18a"
      },
      "source": [
        "#plot the Item_Outlet_Sales for Outlet_Size\n",
        "high = df_SalesPredictions.loc[df_SalesPredictions['Outlet_Size']=='High','Item_Outlet_Sales']\n",
        "medium = df_SalesPredictions.loc[df_SalesPredictions['Outlet_Size']=='Medium','Item_Outlet_Sales']\n",
        "small = df_SalesPredictions.loc[df_SalesPredictions['Outlet_Size']=='Small','Item_Outlet_Sales']\n",
        "unknown = df_SalesPredictions.loc[df_SalesPredictions['Outlet_Size']=='unknown','Item_Outlet_Sales']\n",
        "fig, axes = plt.subplots(nrows = 1, ncols = 1, figsize = (8,5))\n",
        "boxplots = axes.boxplot([high, medium, small, unknown],\n",
        "           notch = True,\n",
        "           labels=['High', 'Medium', 'Small', 'Unknown'],\n",
        "           widths = .7,\n",
        "           patch_artist=True,\n",
        "           medianprops = dict(linestyle='-', linewidth=2, color='Yellow'),\n",
        "           boxprops = dict(linestyle='--', linewidth=2, color='Black', facecolor = 'blue', alpha = .4)\n",
        "          );\n",
        "# The more you understand any library, the more you can do\n",
        "boxplot1 = boxplots['boxes'][0]\n",
        "boxplot1.set_facecolor('red')\n",
        "plt.xlabel('Outlet_Size', fontsize = 12)\n",
        "plt.ylabel('Dollars', fontsize = 12)\n",
        "plt.xticks(fontsize = 10)\n",
        "plt.yticks(fontsize = 10)\n",
        "plt.ylim(bottom=0,top=15000)\n",
        "plt.grid(axis = 'y')\n",
        "plt.title('Outlet Sales per Outlet Size', fontsize = 15);"
      ],
      "execution_count": 46,
      "outputs": [
        {
          "output_type": "stream",
          "text": [
            "/usr/local/lib/python3.7/dist-packages/numpy/core/_asarray.py:83: VisibleDeprecationWarning: Creating an ndarray from ragged nested sequences (which is a list-or-tuple of lists-or-tuples-or ndarrays with different lengths or shapes) is deprecated. If you meant to do this, you must specify 'dtype=object' when creating the ndarray\n",
            "  return array(a, dtype, copy=False, order=order)\n"
          ],
          "name": "stderr"
        },
        {
          "output_type": "display_data",
          "data": {
            "image/png": "[encoded data removed]",
            "text/plain": [
              "<Figure size 576x360 with 1 Axes>"
            ]
          },
          "metadata": {
            "tags": [],
            "needs_background": "light"
          }
        }
      ]
    },
    {
      "cell_type": "markdown",
      "metadata": {
        "id": "2Ph82ZAkddeW"
      },
      "source": [
        "The boxplot visualization confirms the barcharts results based on median and mean; Medium size outlets do the most sales."
      ]
    }
  ]
}