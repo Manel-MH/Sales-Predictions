{
  "nbformat": 4,
  "nbformat_minor": 0,
  "metadata": {
    "colab": {
      "name": "Project1_Sales_Predictions.ipynb",
      "provenance": [],
      "collapsed_sections": [],
      "mount_file_id": "1qze8YKyvBb9gqXjZ_QTMh5PiImpGTReI",
      "authorship_tag": "ABX9TyOg0qmgaXo98P/q8Ms1UFJD",
      "include_colab_link": true
    },
    "kernelspec": {
      "name": "python3",
      "display_name": "Python 3"
    },
    "language_info": {
      "name": "python"
    }
  },
  "cells": [
    {
      "cell_type": "markdown",
      "metadata": {
        "id": "view-in-github",
        "colab_type": "text"
      },
      "source": [
        "<a href=\"https://colab.research.google.com/github/Manel-MH/Sales-Predictions/blob/main/Project1_Sales_Predictions.ipynb\" target=\"_parent\"><img src=\"https://colab.research.google.com/assets/colab-badge.svg\" alt=\"Open In Colab\"/></a>"
      ]
    },
    {
      "cell_type": "markdown",
      "metadata": {
        "id": "0wnMPGqrdulG"
      },
      "source": [
        "Week 1 Part 1 \n",
        "\n",
        "Mount Drive "
      ]
    },
    {
      "cell_type": "code",
      "metadata": {
        "colab": {
          "base_uri": "https://localhost:8080/"
        },
        "id": "SdI4_N7sd5XW",
        "outputId": "88f93426-9090-4901-b093-a1b10fdae644"
      },
      "source": [
        "from google.colab import drive\n",
        "drive.mount('/content/drive')"
      ],
      "execution_count": 1,
      "outputs": [
        {
          "output_type": "stream",
          "name": "stdout",
          "text": [
            "Drive already mounted at /content/drive; to attempt to forcibly remount, call drive.mount(\"/content/drive\", force_remount=True).\n"
          ]
        }
      ]
    },
    {
      "cell_type": "markdown",
      "metadata": {
        "id": "zfEF34Mddkrx"
      },
      "source": [
        "Import Libraries"
      ]
    },
    {
      "cell_type": "code",
      "metadata": {
        "id": "AVKp1Za3d9cF"
      },
      "source": [
        "#import libraries\n",
        "import pandas as pd\n",
        "import numpy as np"
      ],
      "execution_count": 2,
      "outputs": []
    },
    {
      "cell_type": "markdown",
      "metadata": {
        "id": "OWOWUiVydijF"
      },
      "source": [
        "Load Data"
      ]
    },
    {
      "cell_type": "code",
      "metadata": {
        "colab": {
          "base_uri": "https://localhost:8080/",
          "height": 590
        },
        "id": "dQhYAl3XeIEW",
        "outputId": "0535c2fb-86b8-4e2f-947d-e91cab2579aa"
      },
      "source": [
        "#create a file name \n",
        "SalesPredictions = \"/content/drive/MyDrive/Colab Notebooks/datasets/sales_predictions.csv\"\n",
        "#load data \n",
        "df_SalesPredictions = pd.read_csv(SalesPredictions)\n",
        "#check head of data\n",
        "print(df_SalesPredictions.head())\n",
        "#check tail of data\n",
        "print(df_SalesPredictions.tail())\n",
        "#check data as df\n",
        "df_SalesPredictions.head()"
      ],
      "execution_count": 3,
      "outputs": [
        {
          "output_type": "stream",
          "name": "stdout",
          "text": [
            "  Item_Identifier  Item_Weight  ...        Outlet_Type  Item_Outlet_Sales\n",
            "0           FDA15         9.30  ...  Supermarket Type1          3735.1380\n",
            "1           DRC01         5.92  ...  Supermarket Type2           443.4228\n",
            "2           FDN15        17.50  ...  Supermarket Type1          2097.2700\n",
            "3           FDX07        19.20  ...      Grocery Store           732.3800\n",
            "4           NCD19         8.93  ...  Supermarket Type1           994.7052\n",
            "\n",
            "[5 rows x 12 columns]\n",
            "     Item_Identifier  Item_Weight  ...        Outlet_Type  Item_Outlet_Sales\n",
            "8518           FDF22        6.865  ...  Supermarket Type1          2778.3834\n",
            "8519           FDS36        8.380  ...  Supermarket Type1           549.2850\n",
            "8520           NCJ29       10.600  ...  Supermarket Type1          1193.1136\n",
            "8521           FDN46        7.210  ...  Supermarket Type2          1845.5976\n",
            "8522           DRG01       14.800  ...  Supermarket Type1           765.6700\n",
            "\n",
            "[5 rows x 12 columns]\n"
          ]
        },
        {
          "output_type": "execute_result",
          "data": {
            "text/html": [
              "<div>\n",
              "<style scoped>\n",
              "    .dataframe tbody tr th:only-of-type {\n",
              "        vertical-align: middle;\n",
              "    }\n",
              "\n",
              "    .dataframe tbody tr th {\n",
              "        vertical-align: top;\n",
              "    }\n",
              "\n",
              "    .dataframe thead th {\n",
              "        text-align: right;\n",
              "    }\n",
              "</style>\n",
              "<table border=\"1\" class=\"dataframe\">\n",
              "  <thead>\n",
              "    <tr style=\"text-align: right;\">\n",
              "      <th></th>\n",
              "      <th>Item_Identifier</th>\n",
              "      <th>Item_Weight</th>\n",
              "      <th>Item_Fat_Content</th>\n",
              "      <th>Item_Visibility</th>\n",
              "      <th>Item_Type</th>\n",
              "      <th>Item_MRP</th>\n",
              "      <th>Outlet_Identifier</th>\n",
              "      <th>Outlet_Establishment_Year</th>\n",
              "      <th>Outlet_Size</th>\n",
              "      <th>Outlet_Location_Type</th>\n",
              "      <th>Outlet_Type</th>\n",
              "      <th>Item_Outlet_Sales</th>\n",
              "    </tr>\n",
              "  </thead>\n",
              "  <tbody>\n",
              "    <tr>\n",
              "      <th>0</th>\n",
              "      <td>FDA15</td>\n",
              "      <td>9.30</td>\n",
              "      <td>Low Fat</td>\n",
              "      <td>0.016047</td>\n",
              "      <td>Dairy</td>\n",
              "      <td>249.8092</td>\n",
              "      <td>OUT049</td>\n",
              "      <td>1999</td>\n",
              "      <td>Medium</td>\n",
              "      <td>Tier 1</td>\n",
              "      <td>Supermarket Type1</td>\n",
              "      <td>3735.1380</td>\n",
              "    </tr>\n",
              "    <tr>\n",
              "      <th>1</th>\n",
              "      <td>DRC01</td>\n",
              "      <td>5.92</td>\n",
              "      <td>Regular</td>\n",
              "      <td>0.019278</td>\n",
              "      <td>Soft Drinks</td>\n",
              "      <td>48.2692</td>\n",
              "      <td>OUT018</td>\n",
              "      <td>2009</td>\n",
              "      <td>Medium</td>\n",
              "      <td>Tier 3</td>\n",
              "      <td>Supermarket Type2</td>\n",
              "      <td>443.4228</td>\n",
              "    </tr>\n",
              "    <tr>\n",
              "      <th>2</th>\n",
              "      <td>FDN15</td>\n",
              "      <td>17.50</td>\n",
              "      <td>Low Fat</td>\n",
              "      <td>0.016760</td>\n",
              "      <td>Meat</td>\n",
              "      <td>141.6180</td>\n",
              "      <td>OUT049</td>\n",
              "      <td>1999</td>\n",
              "      <td>Medium</td>\n",
              "      <td>Tier 1</td>\n",
              "      <td>Supermarket Type1</td>\n",
              "      <td>2097.2700</td>\n",
              "    </tr>\n",
              "    <tr>\n",
              "      <th>3</th>\n",
              "      <td>FDX07</td>\n",
              "      <td>19.20</td>\n",
              "      <td>Regular</td>\n",
              "      <td>0.000000</td>\n",
              "      <td>Fruits and Vegetables</td>\n",
              "      <td>182.0950</td>\n",
              "      <td>OUT010</td>\n",
              "      <td>1998</td>\n",
              "      <td>NaN</td>\n",
              "      <td>Tier 3</td>\n",
              "      <td>Grocery Store</td>\n",
              "      <td>732.3800</td>\n",
              "    </tr>\n",
              "    <tr>\n",
              "      <th>4</th>\n",
              "      <td>NCD19</td>\n",
              "      <td>8.93</td>\n",
              "      <td>Low Fat</td>\n",
              "      <td>0.000000</td>\n",
              "      <td>Household</td>\n",
              "      <td>53.8614</td>\n",
              "      <td>OUT013</td>\n",
              "      <td>1987</td>\n",
              "      <td>High</td>\n",
              "      <td>Tier 3</td>\n",
              "      <td>Supermarket Type1</td>\n",
              "      <td>994.7052</td>\n",
              "    </tr>\n",
              "  </tbody>\n",
              "</table>\n",
              "</div>"
            ],
            "text/plain": [
              "  Item_Identifier  Item_Weight  ...        Outlet_Type  Item_Outlet_Sales\n",
              "0           FDA15         9.30  ...  Supermarket Type1          3735.1380\n",
              "1           DRC01         5.92  ...  Supermarket Type2           443.4228\n",
              "2           FDN15        17.50  ...  Supermarket Type1          2097.2700\n",
              "3           FDX07        19.20  ...      Grocery Store           732.3800\n",
              "4           NCD19         8.93  ...  Supermarket Type1           994.7052\n",
              "\n",
              "[5 rows x 12 columns]"
            ]
          },
          "metadata": {},
          "execution_count": 3
        }
      ]
    },
    {
      "cell_type": "markdown",
      "metadata": {
        "id": "CZTxh_yUgu3-"
      },
      "source": [
        "Week 2 Part 2\n",
        "\n",
        "Explore Data"
      ]
    },
    {
      "cell_type": "markdown",
      "metadata": {
        "id": "jWHBY7heh-8M"
      },
      "source": [
        "Check columns datatype in df_SalesPredictions"
      ]
    },
    {
      "cell_type": "code",
      "metadata": {
        "colab": {
          "base_uri": "https://localhost:8080/"
        },
        "id": "WkhsWyrNg0dp",
        "outputId": "405a44b7-2960-4190-8e50-a77b7aafda0f"
      },
      "source": [
        "#check info on df_SalesPredictions\n",
        "df_SalesPredictions.info()"
      ],
      "execution_count": 4,
      "outputs": [
        {
          "output_type": "stream",
          "name": "stdout",
          "text": [
            "<class 'pandas.core.frame.DataFrame'>\n",
            "RangeIndex: 8523 entries, 0 to 8522\n",
            "Data columns (total 12 columns):\n",
            " #   Column                     Non-Null Count  Dtype  \n",
            "---  ------                     --------------  -----  \n",
            " 0   Item_Identifier            8523 non-null   object \n",
            " 1   Item_Weight                7060 non-null   float64\n",
            " 2   Item_Fat_Content           8523 non-null   object \n",
            " 3   Item_Visibility            8523 non-null   float64\n",
            " 4   Item_Type                  8523 non-null   object \n",
            " 5   Item_MRP                   8523 non-null   float64\n",
            " 6   Outlet_Identifier          8523 non-null   object \n",
            " 7   Outlet_Establishment_Year  8523 non-null   int64  \n",
            " 8   Outlet_Size                6113 non-null   object \n",
            " 9   Outlet_Location_Type       8523 non-null   object \n",
            " 10  Outlet_Type                8523 non-null   object \n",
            " 11  Item_Outlet_Sales          8523 non-null   float64\n",
            "dtypes: float64(4), int64(1), object(7)\n",
            "memory usage: 799.2+ KB\n"
          ]
        }
      ]
    },
    {
      "cell_type": "markdown",
      "metadata": {
        "id": "oLwKGGPWiDPM"
      },
      "source": [
        "Check shape of df_SalesPredictions"
      ]
    },
    {
      "cell_type": "code",
      "metadata": {
        "colab": {
          "base_uri": "https://localhost:8080/"
        },
        "id": "dqQuA95OhnXn",
        "outputId": "217a2616-66c7-4f18-c1b8-2334a1b88e09"
      },
      "source": [
        "#check shape of df_SalesPredictions\n",
        "#this output gives us numbers of (rows, columns)\n",
        "df_SalesPredictions.shape"
      ],
      "execution_count": 5,
      "outputs": [
        {
          "output_type": "execute_result",
          "data": {
            "text/plain": [
              "(8523, 12)"
            ]
          },
          "metadata": {},
          "execution_count": 5
        }
      ]
    },
    {
      "cell_type": "markdown",
      "metadata": {
        "id": "XbZQY_yJi74B"
      },
      "source": [
        "Check for and remove any duplicates in df_SalesPredictions"
      ]
    },
    {
      "cell_type": "code",
      "metadata": {
        "colab": {
          "base_uri": "https://localhost:8080/"
        },
        "id": "WdWa6vxbi-QF",
        "outputId": "8543ec3c-352f-4737-ddf1-f583bd1e2f04"
      },
      "source": [
        "df_SalesPredictions.duplicated().any()"
      ],
      "execution_count": 6,
      "outputs": [
        {
          "output_type": "execute_result",
          "data": {
            "text/plain": [
              "False"
            ]
          },
          "metadata": {},
          "execution_count": 6
        }
      ]
    },
    {
      "cell_type": "code",
      "metadata": {
        "colab": {
          "base_uri": "https://localhost:8080/"
        },
        "id": "IbTtHjjJjO8v",
        "outputId": "48ebe85a-0e81-45f1-db4e-1b3f74ecb13e"
      },
      "source": [
        "print('There are no duplicated rows (repeated data points) in this dataset.')"
      ],
      "execution_count": 7,
      "outputs": [
        {
          "output_type": "stream",
          "name": "stdout",
          "text": [
            "There are no duplicated rows (repeated data points) in this dataset.\n"
          ]
        }
      ]
    },
    {
      "cell_type": "markdown",
      "metadata": {
        "id": "y48F2_dWjliG"
      },
      "source": [
        "Check for missing values"
      ]
    },
    {
      "cell_type": "code",
      "metadata": {
        "colab": {
          "base_uri": "https://localhost:8080/"
        },
        "id": "a7o011t-kRpE",
        "outputId": "1cea9029-4ba3-4eaf-877b-32ddafacffa8"
      },
      "source": [
        "#is there missing values ?\n",
        "#we always want .isnull().sum() to return zero\n",
        "#.isnull().sum() != 0, we have missing values\n",
        "df_SalesPredictions.isnull().sum()"
      ],
      "execution_count": 8,
      "outputs": [
        {
          "output_type": "execute_result",
          "data": {
            "text/plain": [
              "Item_Identifier                 0\n",
              "Item_Weight                  1463\n",
              "Item_Fat_Content                0\n",
              "Item_Visibility                 0\n",
              "Item_Type                       0\n",
              "Item_MRP                        0\n",
              "Outlet_Identifier               0\n",
              "Outlet_Establishment_Year       0\n",
              "Outlet_Size                  2410\n",
              "Outlet_Location_Type            0\n",
              "Outlet_Type                     0\n",
              "Item_Outlet_Sales               0\n",
              "dtype: int64"
            ]
          },
          "metadata": {},
          "execution_count": 8
        }
      ]
    },
    {
      "cell_type": "code",
      "metadata": {
        "colab": {
          "base_uri": "https://localhost:8080/"
        },
        "id": "FVpyJqx6knfP",
        "outputId": "1b2c9816-b977-4daa-a0a3-b7516eea4b6d"
      },
      "source": [
        "print('There are 1463 missing values for the column Item_Weight and 2410 missing values for the column Outlet_Size.')"
      ],
      "execution_count": 9,
      "outputs": [
        {
          "output_type": "stream",
          "name": "stdout",
          "text": [
            "There are 1463 missing values for the column Item_Weight and 2410 missing values for the column Outlet_Size.\n"
          ]
        }
      ]
    },
    {
      "cell_type": "code",
      "metadata": {
        "colab": {
          "base_uri": "https://localhost:8080/"
        },
        "id": "Ff6bGdzWnHqz",
        "outputId": "c1af823f-879b-45aa-a9b0-edf5fe81097e"
      },
      "source": [
        "#is there irrelevant data/ mis-categorized data?\n",
        "#run a .value_counts per column\n",
        "Item_IdentifierIrr = df_SalesPredictions['Item_Identifier'].value_counts() \n",
        "Item_IdentifierIrr"
      ],
      "execution_count": 10,
      "outputs": [
        {
          "output_type": "execute_result",
          "data": {
            "text/plain": [
              "FDW13    10\n",
              "FDG33    10\n",
              "NCI54     9\n",
              "NCF42     9\n",
              "FDT07     9\n",
              "         ..\n",
              "FDT35     1\n",
              "FDC23     1\n",
              "FDY43     1\n",
              "DRF48     1\n",
              "FDO33     1\n",
              "Name: Item_Identifier, Length: 1559, dtype: int64"
            ]
          },
          "metadata": {},
          "execution_count": 10
        }
      ]
    },
    {
      "cell_type": "code",
      "metadata": {
        "colab": {
          "base_uri": "https://localhost:8080/"
        },
        "id": "4sKVbZ6B4aUO",
        "outputId": "77aade34-508a-4982-bf76-4be245f120e5"
      },
      "source": [
        "Item_WeightIrr = df_SalesPredictions['Item_Weight'].value_counts() \n",
        "Item_WeightIrr"
      ],
      "execution_count": 11,
      "outputs": [
        {
          "output_type": "execute_result",
          "data": {
            "text/plain": [
              "12.150    86\n",
              "17.600    82\n",
              "13.650    77\n",
              "11.800    76\n",
              "15.100    68\n",
              "          ..\n",
              "7.560      2\n",
              "9.420      1\n",
              "5.400      1\n",
              "6.520      1\n",
              "7.685      1\n",
              "Name: Item_Weight, Length: 415, dtype: int64"
            ]
          },
          "metadata": {},
          "execution_count": 11
        }
      ]
    },
    {
      "cell_type": "code",
      "metadata": {
        "colab": {
          "base_uri": "https://localhost:8080/"
        },
        "id": "4NI5Bpf541yI",
        "outputId": "3db11ff9-948d-43c8-d1a4-205eb29dda21"
      },
      "source": [
        "Item_Fat_ContentIrr = df_SalesPredictions['Item_Fat_Content'].value_counts()\n",
        "Item_Fat_ContentIrr \n",
        "print(Item_Fat_ContentIrr)             \n",
        "Item_VisibilityIrr = df_SalesPredictions['Item_Visibility'].value_counts()\n",
        "Item_VisibilityIrr \n",
        "print(Item_VisibilityIrr)                \n",
        "Item_TypeIrr = df_SalesPredictions['Item_Type'].value_counts() \n",
        "Item_TypeIrr\n",
        "print(Item_TypeIrr)                     \n",
        "Item_MRPIrr = df_SalesPredictions['Item_MRP'].value_counts()\n",
        "Item_MRPIrr\n",
        "print(Item_MRPIrr)                         \n",
        "Outlet_IdentifierIrr = df_SalesPredictions['Outlet_Identifier'].value_counts()\n",
        "Outlet_IdentifierIrr \n",
        "print(Outlet_IdentifierIrr)               \n",
        "Outlet_Establishment_YearIrr = df_SalesPredictions['Outlet_Establishment_Year'].value_counts()\n",
        "Outlet_Establishment_YearIrr\n",
        "print(Outlet_Establishment_YearIrr)        \n",
        "Outlet_SizeIrr = df_SalesPredictions['Outlet_Size'].value_counts()\n",
        "Outlet_SizeIrr \n",
        "print(Outlet_SizeIrr)                  \n",
        "Outlet_Location_TypeIrr = df_SalesPredictions['Outlet_Location_Type'].value_counts()\n",
        "Outlet_Location_TypeIrr \n",
        "print(Outlet_Location_TypeIrr)             \n",
        "Outlet_TypeIrr = df_SalesPredictions['Outlet_Type'].value_counts()\n",
        "Outlet_TypeIrr \n",
        "print(Outlet_TypeIrr)                     \n",
        "Item_Outlet_SalesIrr = df_SalesPredictions['Item_Outlet_Sales'].value_counts()\n",
        "Item_Outlet_SalesIrr \n",
        "print(Item_Outlet_SalesIrr)    "
      ],
      "execution_count": 12,
      "outputs": [
        {
          "output_type": "stream",
          "name": "stdout",
          "text": [
            "Low Fat    5089\n",
            "Regular    2889\n",
            "LF          316\n",
            "reg         117\n",
            "low fat     112\n",
            "Name: Item_Fat_Content, dtype: int64\n",
            "0.000000    526\n",
            "0.076975      3\n",
            "0.041283      2\n",
            "0.085622      2\n",
            "0.187841      2\n",
            "           ... \n",
            "0.092576      1\n",
            "0.067544      1\n",
            "0.115168      1\n",
            "0.146896      1\n",
            "0.050902      1\n",
            "Name: Item_Visibility, Length: 7880, dtype: int64\n",
            "Fruits and Vegetables    1232\n",
            "Snack Foods              1200\n",
            "Household                 910\n",
            "Frozen Foods              856\n",
            "Dairy                     682\n",
            "Canned                    649\n",
            "Baking Goods              648\n",
            "Health and Hygiene        520\n",
            "Soft Drinks               445\n",
            "Meat                      425\n",
            "Breads                    251\n",
            "Hard Drinks               214\n",
            "Others                    169\n",
            "Starchy Foods             148\n",
            "Breakfast                 110\n",
            "Seafood                    64\n",
            "Name: Item_Type, dtype: int64\n",
            "172.0422    7\n",
            "188.1872    6\n",
            "170.5422    6\n",
            "109.5228    6\n",
            "196.5084    6\n",
            "           ..\n",
            "212.8218    1\n",
            "190.3872    1\n",
            "162.6868    1\n",
            "189.1214    1\n",
            "51.3008     1\n",
            "Name: Item_MRP, Length: 5938, dtype: int64\n",
            "OUT027    935\n",
            "OUT013    932\n",
            "OUT046    930\n",
            "OUT049    930\n",
            "OUT035    930\n",
            "OUT045    929\n",
            "OUT018    928\n",
            "OUT017    926\n",
            "OUT010    555\n",
            "OUT019    528\n",
            "Name: Outlet_Identifier, dtype: int64\n",
            "1985    1463\n",
            "1987     932\n",
            "1999     930\n",
            "1997     930\n",
            "2004     930\n",
            "2002     929\n",
            "2009     928\n",
            "2007     926\n",
            "1998     555\n",
            "Name: Outlet_Establishment_Year, dtype: int64\n",
            "Medium    2793\n",
            "Small     2388\n",
            "High       932\n",
            "Name: Outlet_Size, dtype: int64\n",
            "Tier 3    3350\n",
            "Tier 2    2785\n",
            "Tier 1    2388\n",
            "Name: Outlet_Location_Type, dtype: int64\n",
            "Supermarket Type1    5577\n",
            "Grocery Store        1083\n",
            "Supermarket Type3     935\n",
            "Supermarket Type2     928\n",
            "Name: Outlet_Type, dtype: int64\n",
            "958.7520     17\n",
            "1342.2528    16\n",
            "1845.5976    15\n",
            "703.0848     15\n",
            "1278.3360    14\n",
            "             ..\n",
            "3167.8764     1\n",
            "2226.4352     1\n",
            "1684.4740     1\n",
            "1574.6170     1\n",
            "6692.6216     1\n",
            "Name: Item_Outlet_Sales, Length: 3493, dtype: int64\n"
          ]
        }
      ]
    },
    {
      "cell_type": "markdown",
      "metadata": {
        "id": "HCxxUiYL8U9y"
      },
      "source": [
        "Clean up the Item_Fat_Content"
      ]
    },
    {
      "cell_type": "markdown",
      "metadata": {
        "id": "1jT4z_zR8cWZ"
      },
      "source": [
        "A .value.counts() on the column Item_Fat_Content turns up that the categories Low Fat or Regular are not reported uniformaly throughout the dataset. We need to have this uniform. We will change all entries into Low Fat or Regular where appropriate."
      ]
    },
    {
      "cell_type": "code",
      "metadata": {
        "id": "VhNmMstP88yW"
      },
      "source": [
        "#we need only two categories Low Fat or Regular\n",
        "#replacing values of cells in particular column\n",
        "df_SalesPredictions['Item_Fat_Content'].replace(['low fat','LF','reg'],['Low Fat','Low Fat','Regular'],inplace = True)"
      ],
      "execution_count": 13,
      "outputs": []
    },
    {
      "cell_type": "code",
      "metadata": {
        "colab": {
          "base_uri": "https://localhost:8080/"
        },
        "id": "5sO-94o48tdR",
        "outputId": "f308878a-3a28-49d4-9291-9d2a88ae02b6"
      },
      "source": [
        "Item_Fat_ContentIrr = df_SalesPredictions['Item_Fat_Content'].value_counts()\n",
        "Item_Fat_ContentIrr \n",
        "print(Item_Fat_ContentIrr)    "
      ],
      "execution_count": 14,
      "outputs": [
        {
          "output_type": "stream",
          "name": "stdout",
          "text": [
            "Low Fat    5517\n",
            "Regular    3006\n",
            "Name: Item_Fat_Content, dtype: int64\n"
          ]
        }
      ]
    },
    {
      "cell_type": "markdown",
      "metadata": {
        "id": "eVEVYyBeDSlz"
      },
      "source": [
        "Strategy to handle missing values"
      ]
    },
    {
      "cell_type": "code",
      "metadata": {
        "id": "yX1_nfe8vCHu"
      },
      "source": [
        "# continuous variable Item_Weight\n",
        "# filling missing values \n",
        "# with mean column values\n",
        "# create a variable mean and assign it the mean of the column Item_Weight\n",
        "mean = df_SalesPredictions['Item_Weight'].mean()\n",
        "df_SalesPredictions['Item_Weight'].fillna(value = mean, inplace=True)"
      ],
      "execution_count": 15,
      "outputs": []
    },
    {
      "cell_type": "code",
      "metadata": {
        "id": "uV9ycuLPDkhy",
        "colab": {
          "base_uri": "https://localhost:8080/"
        },
        "outputId": "bfe631ef-c013-4990-b122-8987fb13a252"
      },
      "source": [
        "# to check if I managed to handle missing values\n",
        "# .isnull().sum() != 0, we have missing values\n",
        "df_SalesPredictions.isnull().sum()"
      ],
      "execution_count": 16,
      "outputs": [
        {
          "output_type": "execute_result",
          "data": {
            "text/plain": [
              "Item_Identifier                 0\n",
              "Item_Weight                     0\n",
              "Item_Fat_Content                0\n",
              "Item_Visibility                 0\n",
              "Item_Type                       0\n",
              "Item_MRP                        0\n",
              "Outlet_Identifier               0\n",
              "Outlet_Establishment_Year       0\n",
              "Outlet_Size                  2410\n",
              "Outlet_Location_Type            0\n",
              "Outlet_Type                     0\n",
              "Item_Outlet_Sales               0\n",
              "dtype: int64"
            ]
          },
          "metadata": {},
          "execution_count": 16
        }
      ]
    },
    {
      "cell_type": "code",
      "metadata": {
        "id": "YhiJfxbU3pfQ"
      },
      "source": [
        "#categorical variable Outlet_Size\n",
        "#Treat missing data as just another category : Unknown\n",
        "df_SalesPredictions['Outlet_Size'].fillna('unknown', inplace=True)"
      ],
      "execution_count": 17,
      "outputs": []
    },
    {
      "cell_type": "code",
      "metadata": {
        "colab": {
          "base_uri": "https://localhost:8080/"
        },
        "id": "KDozKg5Y-GOr",
        "outputId": "8f46bc29-bb9f-450d-c3b9-e12101bd3749"
      },
      "source": [
        "Outlet_SizeIrr = df_SalesPredictions['Outlet_Size'].value_counts()\n",
        "Outlet_SizeIrr \n",
        "print(Outlet_SizeIrr)"
      ],
      "execution_count": 18,
      "outputs": [
        {
          "output_type": "stream",
          "name": "stdout",
          "text": [
            "Medium     2793\n",
            "unknown    2410\n",
            "Small      2388\n",
            "High        932\n",
            "Name: Outlet_Size, dtype: int64\n"
          ]
        }
      ]
    },
    {
      "cell_type": "markdown",
      "metadata": {
        "id": "uIDxwqGVxlEd"
      },
      "source": [
        "Some stats"
      ]
    },
    {
      "cell_type": "code",
      "metadata": {
        "colab": {
          "base_uri": "https://localhost:8080/",
          "height": 300
        },
        "id": "tCXSMQMQvfvi",
        "outputId": "fdaefa42-9ed7-4f89-c2c2-109de4970fea"
      },
      "source": [
        "#stats on the dataframe\n",
        "#DESCRIBE - statistical summary of each column, such as count, column mean value, column standard deviation\n",
        "#Note: item visibility needs to be multiplied by 100; the best column to look at stats summary is Item_Oulet_Sales\n",
        "df_SalesPredictions.describe()"
      ],
      "execution_count": 19,
      "outputs": [
        {
          "output_type": "execute_result",
          "data": {
            "text/html": [
              "<div>\n",
              "<style scoped>\n",
              "    .dataframe tbody tr th:only-of-type {\n",
              "        vertical-align: middle;\n",
              "    }\n",
              "\n",
              "    .dataframe tbody tr th {\n",
              "        vertical-align: top;\n",
              "    }\n",
              "\n",
              "    .dataframe thead th {\n",
              "        text-align: right;\n",
              "    }\n",
              "</style>\n",
              "<table border=\"1\" class=\"dataframe\">\n",
              "  <thead>\n",
              "    <tr style=\"text-align: right;\">\n",
              "      <th></th>\n",
              "      <th>Item_Weight</th>\n",
              "      <th>Item_Visibility</th>\n",
              "      <th>Item_MRP</th>\n",
              "      <th>Outlet_Establishment_Year</th>\n",
              "      <th>Item_Outlet_Sales</th>\n",
              "    </tr>\n",
              "  </thead>\n",
              "  <tbody>\n",
              "    <tr>\n",
              "      <th>count</th>\n",
              "      <td>8523.000000</td>\n",
              "      <td>8523.000000</td>\n",
              "      <td>8523.000000</td>\n",
              "      <td>8523.000000</td>\n",
              "      <td>8523.000000</td>\n",
              "    </tr>\n",
              "    <tr>\n",
              "      <th>mean</th>\n",
              "      <td>12.857645</td>\n",
              "      <td>0.066132</td>\n",
              "      <td>140.992782</td>\n",
              "      <td>1997.831867</td>\n",
              "      <td>2181.288914</td>\n",
              "    </tr>\n",
              "    <tr>\n",
              "      <th>std</th>\n",
              "      <td>4.226124</td>\n",
              "      <td>0.051598</td>\n",
              "      <td>62.275067</td>\n",
              "      <td>8.371760</td>\n",
              "      <td>1706.499616</td>\n",
              "    </tr>\n",
              "    <tr>\n",
              "      <th>min</th>\n",
              "      <td>4.555000</td>\n",
              "      <td>0.000000</td>\n",
              "      <td>31.290000</td>\n",
              "      <td>1985.000000</td>\n",
              "      <td>33.290000</td>\n",
              "    </tr>\n",
              "    <tr>\n",
              "      <th>25%</th>\n",
              "      <td>9.310000</td>\n",
              "      <td>0.026989</td>\n",
              "      <td>93.826500</td>\n",
              "      <td>1987.000000</td>\n",
              "      <td>834.247400</td>\n",
              "    </tr>\n",
              "    <tr>\n",
              "      <th>50%</th>\n",
              "      <td>12.857645</td>\n",
              "      <td>0.053931</td>\n",
              "      <td>143.012800</td>\n",
              "      <td>1999.000000</td>\n",
              "      <td>1794.331000</td>\n",
              "    </tr>\n",
              "    <tr>\n",
              "      <th>75%</th>\n",
              "      <td>16.000000</td>\n",
              "      <td>0.094585</td>\n",
              "      <td>185.643700</td>\n",
              "      <td>2004.000000</td>\n",
              "      <td>3101.296400</td>\n",
              "    </tr>\n",
              "    <tr>\n",
              "      <th>max</th>\n",
              "      <td>21.350000</td>\n",
              "      <td>0.328391</td>\n",
              "      <td>266.888400</td>\n",
              "      <td>2009.000000</td>\n",
              "      <td>13086.964800</td>\n",
              "    </tr>\n",
              "  </tbody>\n",
              "</table>\n",
              "</div>"
            ],
            "text/plain": [
              "       Item_Weight  ...  Item_Outlet_Sales\n",
              "count  8523.000000  ...        8523.000000\n",
              "mean     12.857645  ...        2181.288914\n",
              "std       4.226124  ...        1706.499616\n",
              "min       4.555000  ...          33.290000\n",
              "25%       9.310000  ...         834.247400\n",
              "50%      12.857645  ...        1794.331000\n",
              "75%      16.000000  ...        3101.296400\n",
              "max      21.350000  ...       13086.964800\n",
              "\n",
              "[8 rows x 5 columns]"
            ]
          },
          "metadata": {},
          "execution_count": 19
        }
      ]
    },
    {
      "cell_type": "markdown",
      "metadata": {
        "id": "QW5zRWfH-ZZj"
      },
      "source": [
        "Week 3\n",
        "Statistical Analysis"
      ]
    },
    {
      "cell_type": "markdown",
      "metadata": {
        "id": "uE12mehpBe2d"
      },
      "source": [
        "Histogram to view the distributions of various features in your dataset.\n",
        "\n",
        "Boxplot to view statistical summaries of various features in your dataset.\n",
        "\n",
        "Heatmap of the correlation between features"
      ]
    },
    {
      "cell_type": "code",
      "metadata": {
        "id": "KHRM759dBxgu"
      },
      "source": [
        "#import libraries\n",
        "import matplotlib.pyplot as plt\n",
        "import seaborn as sns\n",
        "import pandas as pd\n",
        "import numpy as np\n",
        "import warnings"
      ],
      "execution_count": 20,
      "outputs": []
    },
    {
      "cell_type": "markdown",
      "metadata": {
        "id": "58mJxRHPEEtk"
      },
      "source": [
        "We will work with the numerical dtypes "
      ]
    },
    {
      "cell_type": "code",
      "metadata": {
        "id": "8ROEXHN6EgMK"
      },
      "source": [
        "#what are the dtype float64, int64 (numerical)\n",
        "#select only numerical dtype\n",
        "#Item_Weight, Item_Visibility, Item_MRP, Outlet_Establishment_Year, Item_Outlet_Sales\n",
        "#the feature to be analyzed is the target variable Item_Outlet_Sales primarily"
      ],
      "execution_count": 21,
      "outputs": []
    },
    {
      "cell_type": "code",
      "metadata": {
        "colab": {
          "base_uri": "https://localhost:8080/",
          "height": 285
        },
        "id": "rdJX5igaF9uJ",
        "outputId": "8f8245c3-ab30-418b-e9f2-b82ae872edd7"
      },
      "source": [
        "#histogram for Item_Outlet_Sales\n",
        "df_SalesPredictions['Item_Outlet_Sales'].hist(bins = 100)\n",
        "plt.xticks(rotation = 45)\n",
        "plt.ticklabel_format(useOffset=False, style='plain')"
      ],
      "execution_count": 22,
      "outputs": [
        {
          "output_type": "display_data",
          "data": {
            "image/png": "[encoded data removed]",
            "text/plain": [
              "<Figure size 432x288 with 1 Axes>"
            ]
          },
          "metadata": {
            "needs_background": "light"
          }
        }
      ]
    },
    {
      "cell_type": "markdown",
      "metadata": {
        "id": "MQzGC8wlIHKH"
      },
      "source": [
        "This histogram showcases the outlet sales, the X axis is the number of sales and the Y axis is the outlet sales. The distribution is skewed to the right. This means that we need to report the dataset mean, median, mode which are all different compared to a normal distribution. "
      ]
    },
    {
      "cell_type": "code",
      "metadata": {
        "colab": {
          "base_uri": "https://localhost:8080/"
        },
        "id": "uWA7s29PLIkt",
        "outputId": "c4d1c91e-0793-4016-ba0b-b37411af93bf"
      },
      "source": [
        "#report mean\n",
        "print(df_SalesPredictions['Item_Outlet_Sales'].mean())\n",
        "print('The mean for the outlet sales column is $2181.30')\n",
        "#report median\n",
        "print(df_SalesPredictions['Item_Outlet_Sales'].median())\n",
        "print('The median for the outlet sales column is $1794.30')\n",
        "#report mode\n",
        "print(df_SalesPredictions['Item_Outlet_Sales'].mode())\n",
        "print('The mode for the outlet sales column is $958.75')"
      ],
      "execution_count": 23,
      "outputs": [
        {
          "output_type": "stream",
          "name": "stdout",
          "text": [
            "2181.2889135750365\n",
            "The mean for the outlet sales column is $2181.30\n",
            "1794.3310000000001\n",
            "The median for the outlet sales column is $1794.30\n",
            "0    958.752\n",
            "dtype: float64\n",
            "The mode for the outlet sales column is $958.75\n"
          ]
        }
      ]
    },
    {
      "cell_type": "markdown",
      "metadata": {
        "id": "NrFQcLCMSTTp"
      },
      "source": [
        "Let's try to extract dtype numerical columns to compare them between themselves"
      ]
    },
    {
      "cell_type": "code",
      "metadata": {
        "colab": {
          "base_uri": "https://localhost:8080/",
          "height": 349
        },
        "id": "2d6Il-fPTDWz",
        "outputId": "0ed854fd-18df-4f79-d9b8-f5e6d439a2a8"
      },
      "source": [
        "#select only dtype float64\n",
        "dtype_numerical = df_SalesPredictions[['Item_MRP', 'Item_Outlet_Sales', 'Item_Visibility', 'Item_Weight']]\n",
        "#correlation between dtype_numerical and heatmap\n",
        "corr = dtype_numerical.corr()\n",
        "sns.heatmap(corr, cmap= 'Blues');"
      ],
      "execution_count": 24,
      "outputs": [
        {
          "output_type": "display_data",
          "data": {
            "image/png": "[encoded data removed]",
            "text/plain": [
              "<Figure size 432x288 with 2 Axes>"
            ]
          },
          "metadata": {
            "needs_background": "light"
          }
        }
      ]
    },
    {
      "cell_type": "markdown",
      "metadata": {
        "id": "WiAOZ6mBU9-j"
      },
      "source": [
        "The heat map showcases that our outlet sales variable has a strong positive correlation with the Item_MRP variable which makes sense since the latter is the maximum retail price; the variable Item_weight is weakly correlated to the variable outlet sales as it seems the weigth has no influence on it.\n"
      ]
    },
    {
      "cell_type": "code",
      "metadata": {
        "colab": {
          "base_uri": "https://localhost:8080/",
          "height": 369
        },
        "id": "vfFdERx0WqL5",
        "outputId": "bbe432dc-7e49-4648-bfb1-9d8e2c41b7d7"
      },
      "source": [
        "#boxplots for dtype_numerical\n",
        "fig, axs = plt.subplots(4, figsize = (8,5))\n",
        "warnings.simplefilter(action=\"ignore\", category=FutureWarning)\n",
        "plt1 = sns.boxplot(df_SalesPredictions['Item_MRP'], ax = axs[0]);\n",
        "plt2 = sns.boxplot(df_SalesPredictions['Item_Outlet_Sales'], ax = axs[1]);\n",
        "plt3 = sns.boxplot(df_SalesPredictions['Item_Visibility'], ax = axs[2]);\n",
        "plt4 = sns.boxplot(df_SalesPredictions['Item_Weight'], ax = axs[3]);\n",
        "plt.tight_layout()"
      ],
      "execution_count": 25,
      "outputs": [
        {
          "output_type": "display_data",
          "data": {
            "image/png": "[encoded data removed]",
            "text/plain": [
              "<Figure size 576x360 with 4 Axes>"
            ]
          },
          "metadata": {
            "needs_background": "light"
          }
        }
      ]
    },
    {
      "cell_type": "markdown",
      "metadata": {
        "id": "8tyRZ3GyYMlO"
      },
      "source": [
        "Doing a boxplot analysis on the dtype_numerical columns showcases our finidngs that the outlet sales variable is skewed to the right with outliers spread to left. The visibilty of items seem to also be skewed to the right. since we replaced missing values in Item_Weight column with the mean value it seems correct that this boxplot is as is; "
      ]
    },
    {
      "cell_type": "markdown",
      "metadata": {
        "id": "EGDe1nOpZR3d"
      },
      "source": [
        "Another interesting thing would be to see if there is some correlation between the size of the outlet and outlet sales"
      ]
    },
    {
      "cell_type": "code",
      "metadata": {
        "colab": {
          "base_uri": "https://localhost:8080/",
          "height": 615
        },
        "id": "9Sjw1uoVZZuY",
        "outputId": "a3e779cf-a13b-4917-8842-49a97ec6ce0c"
      },
      "source": [
        "#use groupby\n",
        "df_SalesPredictions.groupby(['Outlet_Size'])[['Item_Outlet_Sales']].mean().plot(kind='bar');\n",
        "df_SalesPredictions.groupby(['Outlet_Size'])[['Item_Outlet_Sales']].median().plot(kind='bar');"
      ],
      "execution_count": 26,
      "outputs": [
        {
          "output_type": "display_data",
          "data": {
            "image/png": "[encoded data removed]",
            "text/plain": [
              "<Figure size 432x288 with 1 Axes>"
            ]
          },
          "metadata": {
            "needs_background": "light"
          }
        },
        {
          "output_type": "display_data",
          "data": {
            "image/png": "[encoded data removed]",
            "text/plain": [
              "<Figure size 432x288 with 1 Axes>"
            ]
          },
          "metadata": {
            "needs_background": "light"
          }
        }
      ]
    },
    {
      "cell_type": "markdown",
      "metadata": {
        "id": "nOwwNtRJbjnY"
      },
      "source": [
        "Making a barchart to show the outlet sales for different outlet size, shows that Medium size outlet have the highest outlet sales."
      ]
    },
    {
      "cell_type": "markdown",
      "metadata": {
        "id": "MPWw9kYCQkyu"
      },
      "source": [
        "Week 4 Vizualisation"
      ]
    },
    {
      "cell_type": "markdown",
      "metadata": {
        "id": "QnkANYNzU9Gf"
      },
      "source": [
        " Numeric - Categorical Analysis\n",
        "\n",
        " let's do our analysis between categorical variable Outlet_Size vs the numerical variable Item_Outlet_Sales with a boxplot as well"
      ]
    },
    {
      "cell_type": "code",
      "metadata": {
        "colab": {
          "base_uri": "https://localhost:8080/",
          "height": 355
        },
        "id": "wymSl8otViZB",
        "outputId": "4e3579c9-dced-48ae-c8c3-739d2f09f044"
      },
      "source": [
        "#plot the Item_Outlet_Sales for Outlet_Size\n",
        "import warnings\n",
        "warnings.filterwarnings(\"ignore\", category=np.VisibleDeprecationWarning)\n",
        "warnings.simplefilter(action=\"ignore\", category=FutureWarning)\n",
        "high = df_SalesPredictions.loc[df_SalesPredictions['Outlet_Size']=='High','Item_Outlet_Sales']\n",
        "medium = df_SalesPredictions.loc[df_SalesPredictions['Outlet_Size']=='Medium','Item_Outlet_Sales']\n",
        "small = df_SalesPredictions.loc[df_SalesPredictions['Outlet_Size']=='Small','Item_Outlet_Sales']\n",
        "unknown = df_SalesPredictions.loc[df_SalesPredictions['Outlet_Size']=='unknown','Item_Outlet_Sales']\n",
        "fig, axes = plt.subplots(nrows = 1, ncols = 1, figsize = (8,5))\n",
        "boxplots = axes.boxplot([high, medium, small, unknown],\n",
        "           notch = True,\n",
        "           labels=['High', 'Medium', 'Small', 'Unknown'],\n",
        "           widths = .7,\n",
        "           patch_artist=True,\n",
        "           medianprops = dict(linestyle='-', linewidth=2, color='Yellow'),\n",
        "           boxprops = dict(linestyle='--', linewidth=2, color='Black', facecolor = 'blue', alpha = .4)\n",
        "          );\n",
        "# The more you understand any library, the more you can do\n",
        "boxplot1 = boxplots['boxes'][0]\n",
        "boxplot1.set_facecolor('red')\n",
        "plt.xlabel('Outlet_Size', fontsize = 12)\n",
        "plt.ylabel('Dollars', fontsize = 12)\n",
        "plt.xticks(fontsize = 10)\n",
        "plt.yticks(fontsize = 10)\n",
        "plt.ylim(bottom=0,top=15000)\n",
        "plt.grid(axis = 'y')\n",
        "plt.title('Outlet Sales per Outlet Size', fontsize = 15);"
      ],
      "execution_count": 27,
      "outputs": [
        {
          "output_type": "display_data",
          "data": {
            "image/png": "[encoded data removed]",
            "text/plain": [
              "<Figure size 576x360 with 1 Axes>"
            ]
          },
          "metadata": {
            "needs_background": "light"
          }
        }
      ]
    },
    {
      "cell_type": "markdown",
      "metadata": {
        "id": "2Ph82ZAkddeW"
      },
      "source": [
        "The boxplot visualization confirms the barcharts results based on median and mean; Medium size outlets do the most sales."
      ]
    },
    {
      "cell_type": "markdown",
      "metadata": {
        "id": "aXQtiTk8fy4M"
      },
      "source": [
        "Week 5 Linear Regression Model"
      ]
    },
    {
      "cell_type": "code",
      "metadata": {
        "id": "Fdm-TwWHf8Dx"
      },
      "source": [
        "# import libraries\n",
        "from sklearn.model_selection import train_test_split\n",
        "from sklearn.linear_model import LinearRegression\n",
        "from sklearn.metrics import r2_score\n",
        "from sklearn.metrics import mean_absolute_error\n",
        "from sklearn.metrics import mean_squared_error"
      ],
      "execution_count": 28,
      "outputs": []
    },
    {
      "cell_type": "code",
      "metadata": {
        "colab": {
          "base_uri": "https://localhost:8080/"
        },
        "id": "yrGOhYW1gqdn",
        "outputId": "a71f5019-d02c-4130-a2d6-a62390b83c5f"
      },
      "source": [
        "#check our dataframe\n",
        "df_SalesPredictions.info()"
      ],
      "execution_count": 29,
      "outputs": [
        {
          "output_type": "stream",
          "name": "stdout",
          "text": [
            "<class 'pandas.core.frame.DataFrame'>\n",
            "RangeIndex: 8523 entries, 0 to 8522\n",
            "Data columns (total 12 columns):\n",
            " #   Column                     Non-Null Count  Dtype  \n",
            "---  ------                     --------------  -----  \n",
            " 0   Item_Identifier            8523 non-null   object \n",
            " 1   Item_Weight                8523 non-null   float64\n",
            " 2   Item_Fat_Content           8523 non-null   object \n",
            " 3   Item_Visibility            8523 non-null   float64\n",
            " 4   Item_Type                  8523 non-null   object \n",
            " 5   Item_MRP                   8523 non-null   float64\n",
            " 6   Outlet_Identifier          8523 non-null   object \n",
            " 7   Outlet_Establishment_Year  8523 non-null   int64  \n",
            " 8   Outlet_Size                8523 non-null   object \n",
            " 9   Outlet_Location_Type       8523 non-null   object \n",
            " 10  Outlet_Type                8523 non-null   object \n",
            " 11  Item_Outlet_Sales          8523 non-null   float64\n",
            "dtypes: float64(4), int64(1), object(7)\n",
            "memory usage: 799.2+ KB\n"
          ]
        }
      ]
    },
    {
      "cell_type": "code",
      "metadata": {
        "colab": {
          "base_uri": "https://localhost:8080/",
          "height": 313
        },
        "id": "bLgS82Vvmwwu",
        "outputId": "ab85d887-8cbc-4630-f6fd-5fb1afda4781"
      },
      "source": [
        "df_SalesPredictions.head()"
      ],
      "execution_count": 30,
      "outputs": [
        {
          "output_type": "execute_result",
          "data": {
            "text/html": [
              "<div>\n",
              "<style scoped>\n",
              "    .dataframe tbody tr th:only-of-type {\n",
              "        vertical-align: middle;\n",
              "    }\n",
              "\n",
              "    .dataframe tbody tr th {\n",
              "        vertical-align: top;\n",
              "    }\n",
              "\n",
              "    .dataframe thead th {\n",
              "        text-align: right;\n",
              "    }\n",
              "</style>\n",
              "<table border=\"1\" class=\"dataframe\">\n",
              "  <thead>\n",
              "    <tr style=\"text-align: right;\">\n",
              "      <th></th>\n",
              "      <th>Item_Identifier</th>\n",
              "      <th>Item_Weight</th>\n",
              "      <th>Item_Fat_Content</th>\n",
              "      <th>Item_Visibility</th>\n",
              "      <th>Item_Type</th>\n",
              "      <th>Item_MRP</th>\n",
              "      <th>Outlet_Identifier</th>\n",
              "      <th>Outlet_Establishment_Year</th>\n",
              "      <th>Outlet_Size</th>\n",
              "      <th>Outlet_Location_Type</th>\n",
              "      <th>Outlet_Type</th>\n",
              "      <th>Item_Outlet_Sales</th>\n",
              "    </tr>\n",
              "  </thead>\n",
              "  <tbody>\n",
              "    <tr>\n",
              "      <th>0</th>\n",
              "      <td>FDA15</td>\n",
              "      <td>9.30</td>\n",
              "      <td>Low Fat</td>\n",
              "      <td>0.016047</td>\n",
              "      <td>Dairy</td>\n",
              "      <td>249.8092</td>\n",
              "      <td>OUT049</td>\n",
              "      <td>1999</td>\n",
              "      <td>Medium</td>\n",
              "      <td>Tier 1</td>\n",
              "      <td>Supermarket Type1</td>\n",
              "      <td>3735.1380</td>\n",
              "    </tr>\n",
              "    <tr>\n",
              "      <th>1</th>\n",
              "      <td>DRC01</td>\n",
              "      <td>5.92</td>\n",
              "      <td>Regular</td>\n",
              "      <td>0.019278</td>\n",
              "      <td>Soft Drinks</td>\n",
              "      <td>48.2692</td>\n",
              "      <td>OUT018</td>\n",
              "      <td>2009</td>\n",
              "      <td>Medium</td>\n",
              "      <td>Tier 3</td>\n",
              "      <td>Supermarket Type2</td>\n",
              "      <td>443.4228</td>\n",
              "    </tr>\n",
              "    <tr>\n",
              "      <th>2</th>\n",
              "      <td>FDN15</td>\n",
              "      <td>17.50</td>\n",
              "      <td>Low Fat</td>\n",
              "      <td>0.016760</td>\n",
              "      <td>Meat</td>\n",
              "      <td>141.6180</td>\n",
              "      <td>OUT049</td>\n",
              "      <td>1999</td>\n",
              "      <td>Medium</td>\n",
              "      <td>Tier 1</td>\n",
              "      <td>Supermarket Type1</td>\n",
              "      <td>2097.2700</td>\n",
              "    </tr>\n",
              "    <tr>\n",
              "      <th>3</th>\n",
              "      <td>FDX07</td>\n",
              "      <td>19.20</td>\n",
              "      <td>Regular</td>\n",
              "      <td>0.000000</td>\n",
              "      <td>Fruits and Vegetables</td>\n",
              "      <td>182.0950</td>\n",
              "      <td>OUT010</td>\n",
              "      <td>1998</td>\n",
              "      <td>unknown</td>\n",
              "      <td>Tier 3</td>\n",
              "      <td>Grocery Store</td>\n",
              "      <td>732.3800</td>\n",
              "    </tr>\n",
              "    <tr>\n",
              "      <th>4</th>\n",
              "      <td>NCD19</td>\n",
              "      <td>8.93</td>\n",
              "      <td>Low Fat</td>\n",
              "      <td>0.000000</td>\n",
              "      <td>Household</td>\n",
              "      <td>53.8614</td>\n",
              "      <td>OUT013</td>\n",
              "      <td>1987</td>\n",
              "      <td>High</td>\n",
              "      <td>Tier 3</td>\n",
              "      <td>Supermarket Type1</td>\n",
              "      <td>994.7052</td>\n",
              "    </tr>\n",
              "  </tbody>\n",
              "</table>\n",
              "</div>"
            ],
            "text/plain": [
              "  Item_Identifier  Item_Weight  ...        Outlet_Type  Item_Outlet_Sales\n",
              "0           FDA15         9.30  ...  Supermarket Type1          3735.1380\n",
              "1           DRC01         5.92  ...  Supermarket Type2           443.4228\n",
              "2           FDN15        17.50  ...  Supermarket Type1          2097.2700\n",
              "3           FDX07        19.20  ...      Grocery Store           732.3800\n",
              "4           NCD19         8.93  ...  Supermarket Type1           994.7052\n",
              "\n",
              "[5 rows x 12 columns]"
            ]
          },
          "metadata": {},
          "execution_count": 30
        }
      ]
    },
    {
      "cell_type": "markdown",
      "metadata": {
        "id": "Mmajb--ukCKM"
      },
      "source": [
        "Drop Columns"
      ]
    },
    {
      "cell_type": "code",
      "metadata": {
        "id": "Jf7Pftu5kEJq"
      },
      "source": [
        "#remove column Item_Identifier\n",
        "df_SalesPredictions.drop(['Item_Identifier'], axis=1, inplace=True)"
      ],
      "execution_count": 31,
      "outputs": []
    },
    {
      "cell_type": "markdown",
      "metadata": {
        "id": "7J3k9kWUjpcV"
      },
      "source": [
        "Change Categorical data"
      ]
    },
    {
      "cell_type": "code",
      "metadata": {
        "id": "IAOmtEC3juNM"
      },
      "source": [
        "# Method 1: Pandas get_dummies\n",
        "df_SalesPredictions = pd.get_dummies(df_SalesPredictions, columns = ['Item_Fat_Content','Item_Type','Outlet_Identifier','Outlet_Size', 'Outlet_Location_Type', 'Outlet_Type'], drop_first = False)"
      ],
      "execution_count": 32,
      "outputs": []
    },
    {
      "cell_type": "code",
      "metadata": {
        "colab": {
          "base_uri": "https://localhost:8080/",
          "height": 243
        },
        "id": "ll-WnRyEoBO6",
        "outputId": "d7fc3fcf-ba95-4231-fc7c-1b278c4dd7b6"
      },
      "source": [
        "df_SalesPredictions.head()"
      ],
      "execution_count": 33,
      "outputs": [
        {
          "output_type": "execute_result",
          "data": {
            "text/html": [
              "<div>\n",
              "<style scoped>\n",
              "    .dataframe tbody tr th:only-of-type {\n",
              "        vertical-align: middle;\n",
              "    }\n",
              "\n",
              "    .dataframe tbody tr th {\n",
              "        vertical-align: top;\n",
              "    }\n",
              "\n",
              "    .dataframe thead th {\n",
              "        text-align: right;\n",
              "    }\n",
              "</style>\n",
              "<table border=\"1\" class=\"dataframe\">\n",
              "  <thead>\n",
              "    <tr style=\"text-align: right;\">\n",
              "      <th></th>\n",
              "      <th>Item_Weight</th>\n",
              "      <th>Item_Visibility</th>\n",
              "      <th>Item_MRP</th>\n",
              "      <th>Outlet_Establishment_Year</th>\n",
              "      <th>Item_Outlet_Sales</th>\n",
              "      <th>Item_Fat_Content_Low Fat</th>\n",
              "      <th>Item_Fat_Content_Regular</th>\n",
              "      <th>Item_Type_Baking Goods</th>\n",
              "      <th>Item_Type_Breads</th>\n",
              "      <th>Item_Type_Breakfast</th>\n",
              "      <th>Item_Type_Canned</th>\n",
              "      <th>Item_Type_Dairy</th>\n",
              "      <th>Item_Type_Frozen Foods</th>\n",
              "      <th>Item_Type_Fruits and Vegetables</th>\n",
              "      <th>Item_Type_Hard Drinks</th>\n",
              "      <th>Item_Type_Health and Hygiene</th>\n",
              "      <th>Item_Type_Household</th>\n",
              "      <th>Item_Type_Meat</th>\n",
              "      <th>Item_Type_Others</th>\n",
              "      <th>Item_Type_Seafood</th>\n",
              "      <th>Item_Type_Snack Foods</th>\n",
              "      <th>Item_Type_Soft Drinks</th>\n",
              "      <th>Item_Type_Starchy Foods</th>\n",
              "      <th>Outlet_Identifier_OUT010</th>\n",
              "      <th>Outlet_Identifier_OUT013</th>\n",
              "      <th>Outlet_Identifier_OUT017</th>\n",
              "      <th>Outlet_Identifier_OUT018</th>\n",
              "      <th>Outlet_Identifier_OUT019</th>\n",
              "      <th>Outlet_Identifier_OUT027</th>\n",
              "      <th>Outlet_Identifier_OUT035</th>\n",
              "      <th>Outlet_Identifier_OUT045</th>\n",
              "      <th>Outlet_Identifier_OUT046</th>\n",
              "      <th>Outlet_Identifier_OUT049</th>\n",
              "      <th>Outlet_Size_High</th>\n",
              "      <th>Outlet_Size_Medium</th>\n",
              "      <th>Outlet_Size_Small</th>\n",
              "      <th>Outlet_Size_unknown</th>\n",
              "      <th>Outlet_Location_Type_Tier 1</th>\n",
              "      <th>Outlet_Location_Type_Tier 2</th>\n",
              "      <th>Outlet_Location_Type_Tier 3</th>\n",
              "      <th>Outlet_Type_Grocery Store</th>\n",
              "      <th>Outlet_Type_Supermarket Type1</th>\n",
              "      <th>Outlet_Type_Supermarket Type2</th>\n",
              "      <th>Outlet_Type_Supermarket Type3</th>\n",
              "    </tr>\n",
              "  </thead>\n",
              "  <tbody>\n",
              "    <tr>\n",
              "      <th>0</th>\n",
              "      <td>9.30</td>\n",
              "      <td>0.016047</td>\n",
              "      <td>249.8092</td>\n",
              "      <td>1999</td>\n",
              "      <td>3735.1380</td>\n",
              "      <td>1</td>\n",
              "      <td>0</td>\n",
              "      <td>0</td>\n",
              "      <td>0</td>\n",
              "      <td>0</td>\n",
              "      <td>0</td>\n",
              "      <td>1</td>\n",
              "      <td>0</td>\n",
              "      <td>0</td>\n",
              "      <td>0</td>\n",
              "      <td>0</td>\n",
              "      <td>0</td>\n",
              "      <td>0</td>\n",
              "      <td>0</td>\n",
              "      <td>0</td>\n",
              "      <td>0</td>\n",
              "      <td>0</td>\n",
              "      <td>0</td>\n",
              "      <td>0</td>\n",
              "      <td>0</td>\n",
              "      <td>0</td>\n",
              "      <td>0</td>\n",
              "      <td>0</td>\n",
              "      <td>0</td>\n",
              "      <td>0</td>\n",
              "      <td>0</td>\n",
              "      <td>0</td>\n",
              "      <td>1</td>\n",
              "      <td>0</td>\n",
              "      <td>1</td>\n",
              "      <td>0</td>\n",
              "      <td>0</td>\n",
              "      <td>1</td>\n",
              "      <td>0</td>\n",
              "      <td>0</td>\n",
              "      <td>0</td>\n",
              "      <td>1</td>\n",
              "      <td>0</td>\n",
              "      <td>0</td>\n",
              "    </tr>\n",
              "    <tr>\n",
              "      <th>1</th>\n",
              "      <td>5.92</td>\n",
              "      <td>0.019278</td>\n",
              "      <td>48.2692</td>\n",
              "      <td>2009</td>\n",
              "      <td>443.4228</td>\n",
              "      <td>0</td>\n",
              "      <td>1</td>\n",
              "      <td>0</td>\n",
              "      <td>0</td>\n",
              "      <td>0</td>\n",
              "      <td>0</td>\n",
              "      <td>0</td>\n",
              "      <td>0</td>\n",
              "      <td>0</td>\n",
              "      <td>0</td>\n",
              "      <td>0</td>\n",
              "      <td>0</td>\n",
              "      <td>0</td>\n",
              "      <td>0</td>\n",
              "      <td>0</td>\n",
              "      <td>0</td>\n",
              "      <td>1</td>\n",
              "      <td>0</td>\n",
              "      <td>0</td>\n",
              "      <td>0</td>\n",
              "      <td>0</td>\n",
              "      <td>1</td>\n",
              "      <td>0</td>\n",
              "      <td>0</td>\n",
              "      <td>0</td>\n",
              "      <td>0</td>\n",
              "      <td>0</td>\n",
              "      <td>0</td>\n",
              "      <td>0</td>\n",
              "      <td>1</td>\n",
              "      <td>0</td>\n",
              "      <td>0</td>\n",
              "      <td>0</td>\n",
              "      <td>0</td>\n",
              "      <td>1</td>\n",
              "      <td>0</td>\n",
              "      <td>0</td>\n",
              "      <td>1</td>\n",
              "      <td>0</td>\n",
              "    </tr>\n",
              "    <tr>\n",
              "      <th>2</th>\n",
              "      <td>17.50</td>\n",
              "      <td>0.016760</td>\n",
              "      <td>141.6180</td>\n",
              "      <td>1999</td>\n",
              "      <td>2097.2700</td>\n",
              "      <td>1</td>\n",
              "      <td>0</td>\n",
              "      <td>0</td>\n",
              "      <td>0</td>\n",
              "      <td>0</td>\n",
              "      <td>0</td>\n",
              "      <td>0</td>\n",
              "      <td>0</td>\n",
              "      <td>0</td>\n",
              "      <td>0</td>\n",
              "      <td>0</td>\n",
              "      <td>0</td>\n",
              "      <td>1</td>\n",
              "      <td>0</td>\n",
              "      <td>0</td>\n",
              "      <td>0</td>\n",
              "      <td>0</td>\n",
              "      <td>0</td>\n",
              "      <td>0</td>\n",
              "      <td>0</td>\n",
              "      <td>0</td>\n",
              "      <td>0</td>\n",
              "      <td>0</td>\n",
              "      <td>0</td>\n",
              "      <td>0</td>\n",
              "      <td>0</td>\n",
              "      <td>0</td>\n",
              "      <td>1</td>\n",
              "      <td>0</td>\n",
              "      <td>1</td>\n",
              "      <td>0</td>\n",
              "      <td>0</td>\n",
              "      <td>1</td>\n",
              "      <td>0</td>\n",
              "      <td>0</td>\n",
              "      <td>0</td>\n",
              "      <td>1</td>\n",
              "      <td>0</td>\n",
              "      <td>0</td>\n",
              "    </tr>\n",
              "    <tr>\n",
              "      <th>3</th>\n",
              "      <td>19.20</td>\n",
              "      <td>0.000000</td>\n",
              "      <td>182.0950</td>\n",
              "      <td>1998</td>\n",
              "      <td>732.3800</td>\n",
              "      <td>0</td>\n",
              "      <td>1</td>\n",
              "      <td>0</td>\n",
              "      <td>0</td>\n",
              "      <td>0</td>\n",
              "      <td>0</td>\n",
              "      <td>0</td>\n",
              "      <td>0</td>\n",
              "      <td>1</td>\n",
              "      <td>0</td>\n",
              "      <td>0</td>\n",
              "      <td>0</td>\n",
              "      <td>0</td>\n",
              "      <td>0</td>\n",
              "      <td>0</td>\n",
              "      <td>0</td>\n",
              "      <td>0</td>\n",
              "      <td>0</td>\n",
              "      <td>1</td>\n",
              "      <td>0</td>\n",
              "      <td>0</td>\n",
              "      <td>0</td>\n",
              "      <td>0</td>\n",
              "      <td>0</td>\n",
              "      <td>0</td>\n",
              "      <td>0</td>\n",
              "      <td>0</td>\n",
              "      <td>0</td>\n",
              "      <td>0</td>\n",
              "      <td>0</td>\n",
              "      <td>0</td>\n",
              "      <td>1</td>\n",
              "      <td>0</td>\n",
              "      <td>0</td>\n",
              "      <td>1</td>\n",
              "      <td>1</td>\n",
              "      <td>0</td>\n",
              "      <td>0</td>\n",
              "      <td>0</td>\n",
              "    </tr>\n",
              "    <tr>\n",
              "      <th>4</th>\n",
              "      <td>8.93</td>\n",
              "      <td>0.000000</td>\n",
              "      <td>53.8614</td>\n",
              "      <td>1987</td>\n",
              "      <td>994.7052</td>\n",
              "      <td>1</td>\n",
              "      <td>0</td>\n",
              "      <td>0</td>\n",
              "      <td>0</td>\n",
              "      <td>0</td>\n",
              "      <td>0</td>\n",
              "      <td>0</td>\n",
              "      <td>0</td>\n",
              "      <td>0</td>\n",
              "      <td>0</td>\n",
              "      <td>0</td>\n",
              "      <td>1</td>\n",
              "      <td>0</td>\n",
              "      <td>0</td>\n",
              "      <td>0</td>\n",
              "      <td>0</td>\n",
              "      <td>0</td>\n",
              "      <td>0</td>\n",
              "      <td>0</td>\n",
              "      <td>1</td>\n",
              "      <td>0</td>\n",
              "      <td>0</td>\n",
              "      <td>0</td>\n",
              "      <td>0</td>\n",
              "      <td>0</td>\n",
              "      <td>0</td>\n",
              "      <td>0</td>\n",
              "      <td>0</td>\n",
              "      <td>1</td>\n",
              "      <td>0</td>\n",
              "      <td>0</td>\n",
              "      <td>0</td>\n",
              "      <td>0</td>\n",
              "      <td>0</td>\n",
              "      <td>1</td>\n",
              "      <td>0</td>\n",
              "      <td>1</td>\n",
              "      <td>0</td>\n",
              "      <td>0</td>\n",
              "    </tr>\n",
              "  </tbody>\n",
              "</table>\n",
              "</div>"
            ],
            "text/plain": [
              "   Item_Weight  ...  Outlet_Type_Supermarket Type3\n",
              "0         9.30  ...                              0\n",
              "1         5.92  ...                              0\n",
              "2        17.50  ...                              0\n",
              "3        19.20  ...                              0\n",
              "4         8.93  ...                              0\n",
              "\n",
              "[5 rows x 44 columns]"
            ]
          },
          "metadata": {},
          "execution_count": 33
        }
      ]
    },
    {
      "cell_type": "markdown",
      "metadata": {
        "id": "EAxC2MkvicMm"
      },
      "source": [
        "Assign Target and features"
      ]
    },
    {
      "cell_type": "code",
      "metadata": {
        "id": "G9XKW9w6iefy"
      },
      "source": [
        "#assign the target (y) and features (X)\n",
        "y = df_SalesPredictions['Item_Outlet_Sales']\n",
        "X = df_SalesPredictions.drop(columns = 'Item_Outlet_Sales')"
      ],
      "execution_count": 34,
      "outputs": []
    },
    {
      "cell_type": "markdown",
      "metadata": {
        "id": "de7tpI2tif84"
      },
      "source": [
        "Train test Split"
      ]
    },
    {
      "cell_type": "code",
      "metadata": {
        "id": "juY60W-HihnP"
      },
      "source": [
        "#Train Test Split the data\n",
        "from sklearn.model_selection import train_test_split\n",
        "X_train, X_test, y_train, y_test = train_test_split(X, y, random_state = 42)"
      ],
      "execution_count": 35,
      "outputs": []
    },
    {
      "cell_type": "code",
      "metadata": {
        "colab": {
          "base_uri": "https://localhost:8080/"
        },
        "id": "uIfUOBmgHVFu",
        "outputId": "32eca391-2a92-4dc4-dc92-2a527d553559"
      },
      "source": [
        "X_train.shape"
      ],
      "execution_count": 36,
      "outputs": [
        {
          "output_type": "execute_result",
          "data": {
            "text/plain": [
              "(6392, 43)"
            ]
          },
          "metadata": {},
          "execution_count": 36
        }
      ]
    },
    {
      "cell_type": "code",
      "metadata": {
        "colab": {
          "base_uri": "https://localhost:8080/"
        },
        "id": "vOBXtfMYK94l",
        "outputId": "859f4acd-e616-4caa-def7-04a22beeb916"
      },
      "source": [
        "X_test.shape"
      ],
      "execution_count": 37,
      "outputs": [
        {
          "output_type": "execute_result",
          "data": {
            "text/plain": [
              "(2131, 43)"
            ]
          },
          "metadata": {},
          "execution_count": 37
        }
      ]
    },
    {
      "cell_type": "code",
      "metadata": {
        "colab": {
          "base_uri": "https://localhost:8080/"
        },
        "id": "UjVjemAhHcqc",
        "outputId": "28470589-4999-4730-ccdd-25ee4bd87735"
      },
      "source": [
        "y_train.shape"
      ],
      "execution_count": 38,
      "outputs": [
        {
          "output_type": "execute_result",
          "data": {
            "text/plain": [
              "(6392,)"
            ]
          },
          "metadata": {},
          "execution_count": 38
        }
      ]
    },
    {
      "cell_type": "code",
      "metadata": {
        "colab": {
          "base_uri": "https://localhost:8080/"
        },
        "id": "v6j0EfTPLE5Y",
        "outputId": "a59e5bca-58c4-49e4-d186-6c44bbb3265f"
      },
      "source": [
        "y_test.shape"
      ],
      "execution_count": 39,
      "outputs": [
        {
          "output_type": "execute_result",
          "data": {
            "text/plain": [
              "(2131,)"
            ]
          },
          "metadata": {},
          "execution_count": 39
        }
      ]
    },
    {
      "cell_type": "code",
      "metadata": {
        "id": "AuWqXcMRjZpA"
      },
      "source": [
        "#step 1\n",
        "#import the model \n",
        "from sklearn.linear_model import LinearRegression"
      ],
      "execution_count": 40,
      "outputs": []
    },
    {
      "cell_type": "code",
      "metadata": {
        "id": "qANhF7VKi-vP"
      },
      "source": [
        "#step 2\n",
        "#make a linear regression instance \n",
        "lnreg = LinearRegression()"
      ],
      "execution_count": 41,
      "outputs": []
    },
    {
      "cell_type": "code",
      "metadata": {
        "colab": {
          "base_uri": "https://localhost:8080/"
        },
        "id": "jPRKCDLpjh2F",
        "outputId": "9320784f-b1dc-4b3a-8043-e5594d625c21"
      },
      "source": [
        "#step 3 \n",
        "#train the model on the training data\n",
        "#relationship between X and y\n",
        "lnreg.fit(X_train,y_train)"
      ],
      "execution_count": 42,
      "outputs": [
        {
          "output_type": "execute_result",
          "data": {
            "text/plain": [
              "LinearRegression(copy_X=True, fit_intercept=True, n_jobs=None, normalize=False)"
            ]
          },
          "metadata": {},
          "execution_count": 42
        }
      ]
    },
    {
      "cell_type": "code",
      "metadata": {
        "id": "YRzyapUtpcDa"
      },
      "source": [
        "#step 4 \n",
        "#make predictions based on the model\n",
        "# or to predict all values on the training data\n",
        "train_preds = lnreg.predict(X_train)\n",
        "# predict the values in the test set\n",
        "test_preds = lnreg.predict(X_test)"
      ],
      "execution_count": 43,
      "outputs": []
    },
    {
      "cell_type": "markdown",
      "metadata": {
        "id": "HnDyY6Tqpi37"
      },
      "source": [
        "Measure Model Performance"
      ]
    },
    {
      "cell_type": "code",
      "metadata": {
        "colab": {
          "base_uri": "https://localhost:8080/"
        },
        "id": "oK3k4xFKplCi",
        "outputId": "dad45e58-6f0e-4aad-e2e0-c82bc326725b"
      },
      "source": [
        "#R^2 coef of determination training set\n",
        "train_score = lnreg.score(X_train, y_train)\n",
        "print(train_score)"
      ],
      "execution_count": 44,
      "outputs": [
        {
          "output_type": "stream",
          "name": "stdout",
          "text": [
            "0.5615551419174628\n"
          ]
        }
      ]
    },
    {
      "cell_type": "code",
      "metadata": {
        "colab": {
          "base_uri": "https://localhost:8080/"
        },
        "id": "9sjgSDQyprIK",
        "outputId": "001f7ad8-1812-4ef6-dfe5-3fef48d2f1b0"
      },
      "source": [
        "#R^2 coef of determination test set\n",
        "test_score = lnreg.score(X_test, y_test)\n",
        "print(test_score)"
      ],
      "execution_count": 45,
      "outputs": [
        {
          "output_type": "stream",
          "name": "stdout",
          "text": [
            "0.5671041872384912\n"
          ]
        }
      ]
    },
    {
      "cell_type": "markdown",
      "metadata": {
        "id": "COFzDUzQpxMd"
      },
      "source": [
        "The default metric for evaluating a regression model is R^2, the coefficient of determination.\n",
        "\n",
        "The best possible score for R^2 is 1.0, and the higher the R^2 the better. R^2 is given as a decimal, but usually interpreted as a percent.\n",
        "\n",
        "The R^2 value on our training set is 0.561 and the R^2 value on our test set is 0.567. When evaluating a model, we are mostly concerned with how it does on unseen data (our test set), but it is common to also see how our train and test set scores compare to each other. In this case, our train and test scores are similar which means that our model is not overfit.\n",
        "\n",
        "For our data, an R^2 of 0.567 can be interpreted as: 56.7% of the variance in our target vector ('Item_Outlet_Sales') can be explained by the variance in our features X. (the variation in our Target can be explained by the features of our model)."
      ]
    },
    {
      "cell_type": "code",
      "metadata": {
        "colab": {
          "base_uri": "https://localhost:8080/"
        },
        "id": "mQxTWp5qqNum",
        "outputId": "eb4d1781-0a03-4fa7-d3b1-fcaf5b445635"
      },
      "source": [
        "#RMSE\n",
        "from sklearn.metrics import mean_squared_error\n",
        "print('Training RMSE:', np.sqrt(mean_squared_error(y_train, lnreg.predict(X_train))))\n",
        "print('Testing RMSE:' , np.sqrt(mean_squared_error(y_test, lnreg.predict(X_test))))"
      ],
      "execution_count": 46,
      "outputs": [
        {
          "output_type": "stream",
          "name": "stdout",
          "text": [
            "Training RMSE: 1139.1040937388918\n",
            "Testing RMSE: 1092.8630817241494\n"
          ]
        }
      ]
    },
    {
      "cell_type": "markdown",
      "metadata": {
        "id": "Kz-jtcJpqdxg"
      },
      "source": [
        "Trainning RMSE is equal to 1139.1040 dollars.\n",
        "\n",
        "Testing RMSE is equal to 1092.86 dollars. Our model is +/- 1092.86 dollars off when predicting the target vector."
      ]
    },
    {
      "cell_type": "markdown",
      "metadata": {
        "id": "8QX3lct4qvzU"
      },
      "source": [
        "Which features are most associated with higher predicted sales?"
      ]
    },
    {
      "cell_type": "code",
      "metadata": {
        "colab": {
          "base_uri": "https://localhost:8080/"
        },
        "id": "jMzBq1ylsSGL",
        "outputId": "cdb313de-5a6e-438c-aa9b-1e0d70df74a9"
      },
      "source": [
        "#run .corr() to df_SalesPredictions\n",
        "#all variables' correlation to each other\n",
        "corr = df_SalesPredictions.corr()\n",
        "corr\n",
        "print(corr['Item_Outlet_Sales'].sort_values(ascending=False))"
      ],
      "execution_count": 47,
      "outputs": [
        {
          "output_type": "stream",
          "name": "stdout",
          "text": [
            "Item_Outlet_Sales                  1.000000\n",
            "Item_MRP                           0.567574\n",
            "Outlet_Type_Supermarket Type3      0.311192\n",
            "Outlet_Identifier_OUT027           0.311192\n",
            "Outlet_Size_Medium                 0.204701\n",
            "Outlet_Type_Supermarket Type1      0.108765\n",
            "Outlet_Location_Type_Tier 2        0.058261\n",
            "Outlet_Identifier_OUT035           0.052823\n",
            "Outlet_Location_Type_Tier 3        0.046376\n",
            "Outlet_Identifier_OUT049           0.034264\n",
            "Outlet_Identifier_OUT017           0.032610\n",
            "Item_Type_Fruits and Vegetables    0.025950\n",
            "Outlet_Identifier_OUT013           0.024170\n",
            "Outlet_Size_High                   0.024170\n",
            "Item_Type_Snack Foods              0.022782\n",
            "Outlet_Identifier_OUT046           0.019803\n",
            "Item_Fat_Content_Regular           0.018719\n",
            "Item_Type_Household                0.015701\n",
            "Item_Type_Starchy Foods            0.015039\n",
            "Item_Weight                        0.011550\n",
            "Item_Type_Dairy                    0.008858\n",
            "Item_Type_Canned                   0.007387\n",
            "Item_Type_Seafood                  0.007380\n",
            "Item_Type_Breads                   0.002332\n",
            "Outlet_Identifier_OUT045           0.002274\n",
            "Item_Type_Meat                    -0.002995\n",
            "Item_Type_Hard Drinks             -0.003956\n",
            "Item_Type_Breakfast               -0.004656\n",
            "Item_Type_Frozen Foods            -0.009482\n",
            "Item_Fat_Content_Low Fat          -0.018719\n",
            "Item_Type_Others                  -0.021267\n",
            "Item_Type_Soft Drinks             -0.024040\n",
            "Item_Type_Health and Hygiene      -0.025587\n",
            "Outlet_Identifier_OUT018          -0.038059\n",
            "Outlet_Type_Supermarket Type2     -0.038059\n",
            "Item_Type_Baking Goods            -0.038381\n",
            "Outlet_Establishment_Year         -0.049135\n",
            "Outlet_Size_Small                 -0.098403\n",
            "Outlet_Location_Type_Tier 1       -0.111287\n",
            "Item_Visibility                   -0.128625\n",
            "Outlet_Size_unknown               -0.131973\n",
            "Outlet_Identifier_OUT019          -0.277250\n",
            "Outlet_Identifier_OUT010          -0.284883\n",
            "Outlet_Type_Grocery Store         -0.411727\n",
            "Name: Item_Outlet_Sales, dtype: float64\n"
          ]
        }
      ]
    },
    {
      "cell_type": "markdown",
      "metadata": {
        "id": "ZOSX5c7jvUND"
      },
      "source": [
        "The most associated features with a higher predicted target vector are \n",
        "Item_MRP             with r     =   0.567574, \n",
        "Outlet_Type_Supermarket Type3  with r =    0.311192,\n",
        "Outlet_Identifier_OUT027      with r=     0.311192 and \n",
        "Outlet_Size_Medium    with r =             0.204701."
      ]
    },
    {
      "cell_type": "markdown",
      "metadata": {
        "id": "WgjO9QwqEfD0"
      },
      "source": [
        "Week 6 Decision Tree, Bagged Tree and Random Forest models"
      ]
    },
    {
      "cell_type": "code",
      "metadata": {
        "id": "UWfEwPufE6Yn"
      },
      "source": [
        "# import libraries\n",
        "import pandas as pd\n",
        "import numpy as np\n",
        "import matplotlib.pyplot as plt\n",
        "from sklearn.model_selection import train_test_split\n",
        "#Import the decision regressor\n",
        "from sklearn.tree import DecisionTreeRegressor\n",
        "# Import the bagging regressor\n",
        "from sklearn.ensemble import BaggingRegressor\n",
        "# Import random forest Regressor\n",
        "from sklearn.ensemble import RandomForestRegressor"
      ],
      "execution_count": 48,
      "outputs": []
    },
    {
      "cell_type": "code",
      "metadata": {
        "colab": {
          "base_uri": "https://localhost:8080/",
          "height": 243
        },
        "id": "nRXZ3q0DF0cb",
        "outputId": "3263a8af-2c7e-4703-918e-3e18029c639b"
      },
      "source": [
        "#check dataframe\n",
        "df_SalesPredictions.head()"
      ],
      "execution_count": 49,
      "outputs": [
        {
          "output_type": "execute_result",
          "data": {
            "text/html": [
              "<div>\n",
              "<style scoped>\n",
              "    .dataframe tbody tr th:only-of-type {\n",
              "        vertical-align: middle;\n",
              "    }\n",
              "\n",
              "    .dataframe tbody tr th {\n",
              "        vertical-align: top;\n",
              "    }\n",
              "\n",
              "    .dataframe thead th {\n",
              "        text-align: right;\n",
              "    }\n",
              "</style>\n",
              "<table border=\"1\" class=\"dataframe\">\n",
              "  <thead>\n",
              "    <tr style=\"text-align: right;\">\n",
              "      <th></th>\n",
              "      <th>Item_Weight</th>\n",
              "      <th>Item_Visibility</th>\n",
              "      <th>Item_MRP</th>\n",
              "      <th>Outlet_Establishment_Year</th>\n",
              "      <th>Item_Outlet_Sales</th>\n",
              "      <th>Item_Fat_Content_Low Fat</th>\n",
              "      <th>Item_Fat_Content_Regular</th>\n",
              "      <th>Item_Type_Baking Goods</th>\n",
              "      <th>Item_Type_Breads</th>\n",
              "      <th>Item_Type_Breakfast</th>\n",
              "      <th>Item_Type_Canned</th>\n",
              "      <th>Item_Type_Dairy</th>\n",
              "      <th>Item_Type_Frozen Foods</th>\n",
              "      <th>Item_Type_Fruits and Vegetables</th>\n",
              "      <th>Item_Type_Hard Drinks</th>\n",
              "      <th>Item_Type_Health and Hygiene</th>\n",
              "      <th>Item_Type_Household</th>\n",
              "      <th>Item_Type_Meat</th>\n",
              "      <th>Item_Type_Others</th>\n",
              "      <th>Item_Type_Seafood</th>\n",
              "      <th>Item_Type_Snack Foods</th>\n",
              "      <th>Item_Type_Soft Drinks</th>\n",
              "      <th>Item_Type_Starchy Foods</th>\n",
              "      <th>Outlet_Identifier_OUT010</th>\n",
              "      <th>Outlet_Identifier_OUT013</th>\n",
              "      <th>Outlet_Identifier_OUT017</th>\n",
              "      <th>Outlet_Identifier_OUT018</th>\n",
              "      <th>Outlet_Identifier_OUT019</th>\n",
              "      <th>Outlet_Identifier_OUT027</th>\n",
              "      <th>Outlet_Identifier_OUT035</th>\n",
              "      <th>Outlet_Identifier_OUT045</th>\n",
              "      <th>Outlet_Identifier_OUT046</th>\n",
              "      <th>Outlet_Identifier_OUT049</th>\n",
              "      <th>Outlet_Size_High</th>\n",
              "      <th>Outlet_Size_Medium</th>\n",
              "      <th>Outlet_Size_Small</th>\n",
              "      <th>Outlet_Size_unknown</th>\n",
              "      <th>Outlet_Location_Type_Tier 1</th>\n",
              "      <th>Outlet_Location_Type_Tier 2</th>\n",
              "      <th>Outlet_Location_Type_Tier 3</th>\n",
              "      <th>Outlet_Type_Grocery Store</th>\n",
              "      <th>Outlet_Type_Supermarket Type1</th>\n",
              "      <th>Outlet_Type_Supermarket Type2</th>\n",
              "      <th>Outlet_Type_Supermarket Type3</th>\n",
              "    </tr>\n",
              "  </thead>\n",
              "  <tbody>\n",
              "    <tr>\n",
              "      <th>0</th>\n",
              "      <td>9.30</td>\n",
              "      <td>0.016047</td>\n",
              "      <td>249.8092</td>\n",
              "      <td>1999</td>\n",
              "      <td>3735.1380</td>\n",
              "      <td>1</td>\n",
              "      <td>0</td>\n",
              "      <td>0</td>\n",
              "      <td>0</td>\n",
              "      <td>0</td>\n",
              "      <td>0</td>\n",
              "      <td>1</td>\n",
              "      <td>0</td>\n",
              "      <td>0</td>\n",
              "      <td>0</td>\n",
              "      <td>0</td>\n",
              "      <td>0</td>\n",
              "      <td>0</td>\n",
              "      <td>0</td>\n",
              "      <td>0</td>\n",
              "      <td>0</td>\n",
              "      <td>0</td>\n",
              "      <td>0</td>\n",
              "      <td>0</td>\n",
              "      <td>0</td>\n",
              "      <td>0</td>\n",
              "      <td>0</td>\n",
              "      <td>0</td>\n",
              "      <td>0</td>\n",
              "      <td>0</td>\n",
              "      <td>0</td>\n",
              "      <td>0</td>\n",
              "      <td>1</td>\n",
              "      <td>0</td>\n",
              "      <td>1</td>\n",
              "      <td>0</td>\n",
              "      <td>0</td>\n",
              "      <td>1</td>\n",
              "      <td>0</td>\n",
              "      <td>0</td>\n",
              "      <td>0</td>\n",
              "      <td>1</td>\n",
              "      <td>0</td>\n",
              "      <td>0</td>\n",
              "    </tr>\n",
              "    <tr>\n",
              "      <th>1</th>\n",
              "      <td>5.92</td>\n",
              "      <td>0.019278</td>\n",
              "      <td>48.2692</td>\n",
              "      <td>2009</td>\n",
              "      <td>443.4228</td>\n",
              "      <td>0</td>\n",
              "      <td>1</td>\n",
              "      <td>0</td>\n",
              "      <td>0</td>\n",
              "      <td>0</td>\n",
              "      <td>0</td>\n",
              "      <td>0</td>\n",
              "      <td>0</td>\n",
              "      <td>0</td>\n",
              "      <td>0</td>\n",
              "      <td>0</td>\n",
              "      <td>0</td>\n",
              "      <td>0</td>\n",
              "      <td>0</td>\n",
              "      <td>0</td>\n",
              "      <td>0</td>\n",
              "      <td>1</td>\n",
              "      <td>0</td>\n",
              "      <td>0</td>\n",
              "      <td>0</td>\n",
              "      <td>0</td>\n",
              "      <td>1</td>\n",
              "      <td>0</td>\n",
              "      <td>0</td>\n",
              "      <td>0</td>\n",
              "      <td>0</td>\n",
              "      <td>0</td>\n",
              "      <td>0</td>\n",
              "      <td>0</td>\n",
              "      <td>1</td>\n",
              "      <td>0</td>\n",
              "      <td>0</td>\n",
              "      <td>0</td>\n",
              "      <td>0</td>\n",
              "      <td>1</td>\n",
              "      <td>0</td>\n",
              "      <td>0</td>\n",
              "      <td>1</td>\n",
              "      <td>0</td>\n",
              "    </tr>\n",
              "    <tr>\n",
              "      <th>2</th>\n",
              "      <td>17.50</td>\n",
              "      <td>0.016760</td>\n",
              "      <td>141.6180</td>\n",
              "      <td>1999</td>\n",
              "      <td>2097.2700</td>\n",
              "      <td>1</td>\n",
              "      <td>0</td>\n",
              "      <td>0</td>\n",
              "      <td>0</td>\n",
              "      <td>0</td>\n",
              "      <td>0</td>\n",
              "      <td>0</td>\n",
              "      <td>0</td>\n",
              "      <td>0</td>\n",
              "      <td>0</td>\n",
              "      <td>0</td>\n",
              "      <td>0</td>\n",
              "      <td>1</td>\n",
              "      <td>0</td>\n",
              "      <td>0</td>\n",
              "      <td>0</td>\n",
              "      <td>0</td>\n",
              "      <td>0</td>\n",
              "      <td>0</td>\n",
              "      <td>0</td>\n",
              "      <td>0</td>\n",
              "      <td>0</td>\n",
              "      <td>0</td>\n",
              "      <td>0</td>\n",
              "      <td>0</td>\n",
              "      <td>0</td>\n",
              "      <td>0</td>\n",
              "      <td>1</td>\n",
              "      <td>0</td>\n",
              "      <td>1</td>\n",
              "      <td>0</td>\n",
              "      <td>0</td>\n",
              "      <td>1</td>\n",
              "      <td>0</td>\n",
              "      <td>0</td>\n",
              "      <td>0</td>\n",
              "      <td>1</td>\n",
              "      <td>0</td>\n",
              "      <td>0</td>\n",
              "    </tr>\n",
              "    <tr>\n",
              "      <th>3</th>\n",
              "      <td>19.20</td>\n",
              "      <td>0.000000</td>\n",
              "      <td>182.0950</td>\n",
              "      <td>1998</td>\n",
              "      <td>732.3800</td>\n",
              "      <td>0</td>\n",
              "      <td>1</td>\n",
              "      <td>0</td>\n",
              "      <td>0</td>\n",
              "      <td>0</td>\n",
              "      <td>0</td>\n",
              "      <td>0</td>\n",
              "      <td>0</td>\n",
              "      <td>1</td>\n",
              "      <td>0</td>\n",
              "      <td>0</td>\n",
              "      <td>0</td>\n",
              "      <td>0</td>\n",
              "      <td>0</td>\n",
              "      <td>0</td>\n",
              "      <td>0</td>\n",
              "      <td>0</td>\n",
              "      <td>0</td>\n",
              "      <td>1</td>\n",
              "      <td>0</td>\n",
              "      <td>0</td>\n",
              "      <td>0</td>\n",
              "      <td>0</td>\n",
              "      <td>0</td>\n",
              "      <td>0</td>\n",
              "      <td>0</td>\n",
              "      <td>0</td>\n",
              "      <td>0</td>\n",
              "      <td>0</td>\n",
              "      <td>0</td>\n",
              "      <td>0</td>\n",
              "      <td>1</td>\n",
              "      <td>0</td>\n",
              "      <td>0</td>\n",
              "      <td>1</td>\n",
              "      <td>1</td>\n",
              "      <td>0</td>\n",
              "      <td>0</td>\n",
              "      <td>0</td>\n",
              "    </tr>\n",
              "    <tr>\n",
              "      <th>4</th>\n",
              "      <td>8.93</td>\n",
              "      <td>0.000000</td>\n",
              "      <td>53.8614</td>\n",
              "      <td>1987</td>\n",
              "      <td>994.7052</td>\n",
              "      <td>1</td>\n",
              "      <td>0</td>\n",
              "      <td>0</td>\n",
              "      <td>0</td>\n",
              "      <td>0</td>\n",
              "      <td>0</td>\n",
              "      <td>0</td>\n",
              "      <td>0</td>\n",
              "      <td>0</td>\n",
              "      <td>0</td>\n",
              "      <td>0</td>\n",
              "      <td>1</td>\n",
              "      <td>0</td>\n",
              "      <td>0</td>\n",
              "      <td>0</td>\n",
              "      <td>0</td>\n",
              "      <td>0</td>\n",
              "      <td>0</td>\n",
              "      <td>0</td>\n",
              "      <td>1</td>\n",
              "      <td>0</td>\n",
              "      <td>0</td>\n",
              "      <td>0</td>\n",
              "      <td>0</td>\n",
              "      <td>0</td>\n",
              "      <td>0</td>\n",
              "      <td>0</td>\n",
              "      <td>0</td>\n",
              "      <td>1</td>\n",
              "      <td>0</td>\n",
              "      <td>0</td>\n",
              "      <td>0</td>\n",
              "      <td>0</td>\n",
              "      <td>0</td>\n",
              "      <td>1</td>\n",
              "      <td>0</td>\n",
              "      <td>1</td>\n",
              "      <td>0</td>\n",
              "      <td>0</td>\n",
              "    </tr>\n",
              "  </tbody>\n",
              "</table>\n",
              "</div>"
            ],
            "text/plain": [
              "   Item_Weight  ...  Outlet_Type_Supermarket Type3\n",
              "0         9.30  ...                              0\n",
              "1         5.92  ...                              0\n",
              "2        17.50  ...                              0\n",
              "3        19.20  ...                              0\n",
              "4         8.93  ...                              0\n",
              "\n",
              "[5 rows x 44 columns]"
            ]
          },
          "metadata": {},
          "execution_count": 49
        }
      ]
    },
    {
      "cell_type": "markdown",
      "metadata": {
        "id": "dP8XOjseGDof"
      },
      "source": [
        "Decision Trees"
      ]
    },
    {
      "cell_type": "code",
      "metadata": {
        "id": "QEpuo-ZDGF01"
      },
      "source": [
        "#Step 1: Import the model you want to use\n",
        "# This was already imported earlier\n",
        "from sklearn.tree import DecisionTreeClassifier"
      ],
      "execution_count": 50,
      "outputs": []
    },
    {
      "cell_type": "code",
      "metadata": {
        "id": "L1dNHHc_GSGM"
      },
      "source": [
        "#Step 2: Make an instance of the model\n",
        "# By leaving the parenthesis empty, we are choosing to use all of the default parameters\n",
        "# let's set our random_state=42\n",
        "dec_tree = DecisionTreeRegressor(random_state = 42)"
      ],
      "execution_count": 51,
      "outputs": []
    },
    {
      "cell_type": "code",
      "metadata": {
        "colab": {
          "base_uri": "https://localhost:8080/"
        },
        "id": "iMiJ_8T3GbVF",
        "outputId": "8fa1492e-71e8-4df7-a071-11167c1fd36b"
      },
      "source": [
        "#Step 3: Fit the model using your training data.  \n",
        "#The model is learning the relationship between the features (X) and the target (y)\n",
        "dec_tree.fit(X_train, y_train)"
      ],
      "execution_count": 52,
      "outputs": [
        {
          "output_type": "execute_result",
          "data": {
            "text/plain": [
              "DecisionTreeRegressor(ccp_alpha=0.0, criterion='mse', max_depth=None,\n",
              "                      max_features=None, max_leaf_nodes=None,\n",
              "                      min_impurity_decrease=0.0, min_impurity_split=None,\n",
              "                      min_samples_leaf=1, min_samples_split=2,\n",
              "                      min_weight_fraction_leaf=0.0, presort='deprecated',\n",
              "                      random_state=42, splitter='best')"
            ]
          },
          "metadata": {},
          "execution_count": 52
        }
      ]
    },
    {
      "cell_type": "code",
      "metadata": {
        "id": "nsBbEIrzGet6"
      },
      "source": [
        "#Step 4: Predict the target values for the training set and the test test.  \n",
        "#(Note: You can get the score without this step)\n",
        "#(but if you want to actually see what the predictions are, this is a helpful step)\n",
        "train_preds = dec_tree.predict(X_train)\n",
        "test_preds = dec_tree.predict(X_test)"
      ],
      "execution_count": 53,
      "outputs": []
    },
    {
      "cell_type": "code",
      "metadata": {
        "colab": {
          "base_uri": "https://localhost:8080/"
        },
        "id": "1cdJ1hebGrS0",
        "outputId": "09634ad6-d713-4b72-a2d3-e06c47e8fe89"
      },
      "source": [
        "#Step 5: Evaluate the Model\n",
        "train_score = dec_tree.score(X_train, y_train)\n",
        "test_score = dec_tree.score(X_test, y_test)\n",
        "print(train_score)\n",
        "print(test_score)"
      ],
      "execution_count": 54,
      "outputs": [
        {
          "output_type": "stream",
          "name": "stdout",
          "text": [
            "1.0\n",
            "0.19267528293754568\n"
          ]
        }
      ]
    },
    {
      "cell_type": "markdown",
      "metadata": {
        "id": "vlLb8q1MG7jy"
      },
      "source": [
        "The evaluation metric used here is the R^2. The default decision tree had a perfect R^2 score on the training data than it does on the test data. This is an indication that the model is overfit. We have to improve it."
      ]
    },
    {
      "cell_type": "code",
      "metadata": {
        "colab": {
          "base_uri": "https://localhost:8080/"
        },
        "id": "ljCkjoTJHJVQ",
        "outputId": "b119e69c-aa60-4cbc-9e20-b9d336b80c44"
      },
      "source": [
        "#Step 6: Tune the Model\n",
        "# Looking at options for tuning this model\n",
        "dec_tree"
      ],
      "execution_count": 55,
      "outputs": [
        {
          "output_type": "execute_result",
          "data": {
            "text/plain": [
              "DecisionTreeRegressor(ccp_alpha=0.0, criterion='mse', max_depth=None,\n",
              "                      max_features=None, max_leaf_nodes=None,\n",
              "                      min_impurity_decrease=0.0, min_impurity_split=None,\n",
              "                      min_samples_leaf=1, min_samples_split=2,\n",
              "                      min_weight_fraction_leaf=0.0, presort='deprecated',\n",
              "                      random_state=42, splitter='best')"
            ]
          },
          "metadata": {},
          "execution_count": 55
        }
      ]
    },
    {
      "cell_type": "code",
      "metadata": {
        "colab": {
          "base_uri": "https://localhost:8080/"
        },
        "id": "GNjb9Hs1HVZC",
        "outputId": "7258d90b-0e72-4226-e845-c1c4c8cea9dc"
      },
      "source": [
        "# depth of our default tree? (see above max_depth=None)\n",
        "dec_tree.get_depth()"
      ],
      "execution_count": 56,
      "outputs": [
        {
          "output_type": "execute_result",
          "data": {
            "text/plain": [
              "40"
            ]
          },
          "metadata": {},
          "execution_count": 56
        }
      ]
    },
    {
      "cell_type": "code",
      "metadata": {
        "colab": {
          "base_uri": "https://localhost:8080/"
        },
        "id": "M6isvRJsHdmf",
        "outputId": "5ae19da4-f1fd-41d3-a73f-100a7f38129a"
      },
      "source": [
        "# How many leaf nodes?\n",
        "dec_tree.get_n_leaves()"
      ],
      "execution_count": 57,
      "outputs": [
        {
          "output_type": "execute_result",
          "data": {
            "text/plain": [
              "6227"
            ]
          },
          "metadata": {},
          "execution_count": 57
        }
      ]
    },
    {
      "cell_type": "code",
      "metadata": {
        "colab": {
          "base_uri": "https://localhost:8080/"
        },
        "id": "JBFawN31HiBZ",
        "outputId": "da6af5a7-6157-4f37-fc07-ecdb445c3d26"
      },
      "source": [
        "#Hyperparameters tuning\n",
        "# Let's go extreme and set our max depth to 2\n",
        "dec_tree_2 = DecisionTreeRegressor(max_depth = 2, random_state = 42)\n",
        "dec_tree_2.fit(X_train, y_train)\n",
        "train_2_score = dec_tree_2.score(X_train, y_train)\n",
        "test_2_score = dec_tree_2.score(X_test, y_test)\n",
        "print(train_2_score)\n",
        "print(test_2_score)"
      ],
      "execution_count": 58,
      "outputs": [
        {
          "output_type": "stream",
          "name": "stdout",
          "text": [
            "0.43164096170474664\n",
            "0.4337775044707165\n"
          ]
        }
      ]
    },
    {
      "cell_type": "markdown",
      "metadata": {
        "id": "LMh7KGwWHyGq"
      },
      "source": [
        "As we can see our scores on both the training and test sets are much lower. This indicates that with a max depth of 5, our model is now underfit."
      ]
    },
    {
      "cell_type": "code",
      "metadata": {
        "colab": {
          "base_uri": "https://localhost:8080/"
        },
        "id": "vwYS0_AnH6vr",
        "outputId": "a4c212be-c78f-46df-91e2-94786853be93"
      },
      "source": [
        "#results with a max depth of 15?\n",
        "dec_tree_15 = DecisionTreeRegressor(max_depth = 15, random_state = 42)\n",
        "dec_tree_15.fit(X_train, y_train)\n",
        "train_15_score = dec_tree_15.score(X_train, y_train)\n",
        "test_15_score = dec_tree_15.score(X_test, y_test)\n",
        "print(train_15_score)\n",
        "print(test_15_score)"
      ],
      "execution_count": 59,
      "outputs": [
        {
          "output_type": "stream",
          "name": "stdout",
          "text": [
            "0.8192899550439625\n",
            "0.37898921403738167\n"
          ]
        }
      ]
    },
    {
      "cell_type": "markdown",
      "metadata": {
        "id": "swtJOnyqIGLZ"
      },
      "source": [
        "We dramatically decrease the testing result while increasing the training result; we are overfitting our model again. It seems we need to choose a depth that is small."
      ]
    },
    {
      "cell_type": "code",
      "metadata": {
        "id": "4WAKl0rHIhJB"
      },
      "source": [
        "# List of values to try for max_depth:\n",
        "max_depth_range = list(range(2, 36)) # will try every value between 2 and 36\n",
        "# List to store the score for each value of max_depth:\n",
        "r2 = []\n",
        "for depth in max_depth_range:\n",
        "    dec_tree = DecisionTreeRegressor(max_depth = depth, \n",
        "                             random_state = 42)\n",
        "    dec_tree.fit(X_train, y_train)\n",
        "    score = dec_tree.score(X_test, y_test)\n",
        "    r2.append(score)"
      ],
      "execution_count": 60,
      "outputs": []
    },
    {
      "cell_type": "code",
      "metadata": {
        "colab": {
          "base_uri": "https://localhost:8080/",
          "height": 280
        },
        "id": "j2EHOs5jInqf",
        "outputId": "ef1bdecd-0603-4769-d0f1-ef681d1bf980"
      },
      "source": [
        "#To help us see the results of trying various tree depths, \n",
        "#the following code creates a visualization of R2 vs max_depth\n",
        "# Visualize which max_depth leads to the highest r2 score\n",
        "import matplotlib.pyplot as plt\n",
        "plt.plot(max_depth_range, r2)\n",
        "plt.xlabel('max_depth')\n",
        "plt.ylabel('R2');"
      ],
      "execution_count": 61,
      "outputs": [
        {
          "output_type": "display_data",
          "data": {
            "image/png": "[encoded data removed]",
            "text/plain": [
              "<Figure size 432x288 with 1 Axes>"
            ]
          },
          "metadata": {
            "needs_background": "light"
          }
        }
      ]
    },
    {
      "cell_type": "markdown",
      "metadata": {
        "id": "QzAPMr0hIxiq"
      },
      "source": [
        "From the image above, it looks like the best score for the model is when the parameter max_depth is 5."
      ]
    },
    {
      "cell_type": "code",
      "metadata": {
        "colab": {
          "base_uri": "https://localhost:8080/"
        },
        "id": "hD53hEaAI4DV",
        "outputId": "9c88207b-3fb1-4b2c-cbe0-7195ecccf249"
      },
      "source": [
        "# Let's run the model with our optimized value for max_depth\n",
        "dec_tree_5 = DecisionTreeRegressor(max_depth = 5, random_state = 42)\n",
        "dec_tree_5.fit(X_train, y_train)\n",
        "train_5_score = dec_tree_5.score(X_train, y_train)\n",
        "test_5_score = dec_tree_5.score(X_test, y_test)\n",
        "print(train_5_score)\n",
        "print(test_5_score)"
      ],
      "execution_count": 62,
      "outputs": [
        {
          "output_type": "stream",
          "name": "stdout",
          "text": [
            "0.6039397477322956\n",
            "0.5947099753159972\n"
          ]
        }
      ]
    },
    {
      "cell_type": "markdown",
      "metadata": {
        "id": "mOoxGqV6JHZV"
      },
      "source": [
        "The training and test results have moved closer to each other (a sign that we have reduced overfitting) and that the testing score is higher."
      ]
    },
    {
      "cell_type": "markdown",
      "metadata": {
        "id": "A6QeInLhJizK"
      },
      "source": [
        "Bagged Trees"
      ]
    },
    {
      "cell_type": "code",
      "metadata": {
        "id": "dH7yYPJGJtJ9"
      },
      "source": [
        "#Step 1: Import the model you want to use\n",
        "#In sklearn, all machine learning models are implemented as Python classes\n",
        "from sklearn.ensemble import BaggingRegressor"
      ],
      "execution_count": 63,
      "outputs": []
    },
    {
      "cell_type": "code",
      "metadata": {
        "id": "RzPLtRJlJ0ut"
      },
      "source": [
        "#Step 2: Make an instance of the Model\n",
        "bagreg = BaggingRegressor(random_state = 42)"
      ],
      "execution_count": 64,
      "outputs": []
    },
    {
      "cell_type": "code",
      "metadata": {
        "colab": {
          "base_uri": "https://localhost:8080/"
        },
        "id": "4z6pBWl7KCZG",
        "outputId": "b23075f6-07f2-4307-9306-318257d656ea"
      },
      "source": [
        "# Look at the hyperparameters\n",
        "bagreg"
      ],
      "execution_count": 65,
      "outputs": [
        {
          "output_type": "execute_result",
          "data": {
            "text/plain": [
              "BaggingRegressor(base_estimator=None, bootstrap=True, bootstrap_features=False,\n",
              "                 max_features=1.0, max_samples=1.0, n_estimators=10,\n",
              "                 n_jobs=None, oob_score=False, random_state=42, verbose=0,\n",
              "                 warm_start=False)"
            ]
          },
          "metadata": {},
          "execution_count": 65
        }
      ]
    },
    {
      "cell_type": "code",
      "metadata": {
        "colab": {
          "base_uri": "https://localhost:8080/"
        },
        "id": "OmfCBWSsKD0q",
        "outputId": "5ce06e41-92e6-4311-dbf1-c0faeff9952c"
      },
      "source": [
        "#Step 3: Training the model on the data \n",
        "#storing the information learned from the data\n",
        "#Model is learning the relationship between X and y\n",
        "bagreg.fit(X_train, y_train)"
      ],
      "execution_count": 66,
      "outputs": [
        {
          "output_type": "execute_result",
          "data": {
            "text/plain": [
              "BaggingRegressor(base_estimator=None, bootstrap=True, bootstrap_features=False,\n",
              "                 max_features=1.0, max_samples=1.0, n_estimators=10,\n",
              "                 n_jobs=None, oob_score=False, random_state=42, verbose=0,\n",
              "                 warm_start=False)"
            ]
          },
          "metadata": {},
          "execution_count": 66
        }
      ]
    },
    {
      "cell_type": "code",
      "metadata": {
        "colab": {
          "base_uri": "https://localhost:8080/"
        },
        "id": "CdoRLt7fKMJH",
        "outputId": "39ead9eb-fa07-4a93-883a-6a5a02050097"
      },
      "source": [
        "#Step 4: Predict the values for y \n",
        "#(remember that this step just allows you to see the actual predictions, )\n",
        "#(but is not necessary for evaluating or tuning your model)\n",
        "bagreg.predict(X_test)"
      ],
      "execution_count": 67,
      "outputs": [
        {
          "output_type": "execute_result",
          "data": {
            "text/plain": [
              "array([ 590.43144, 1067.81004,  626.58438, ..., 3395.44684, 2506.00462,\n",
              "       2307.52964])"
            ]
          },
          "metadata": {},
          "execution_count": 67
        }
      ]
    },
    {
      "cell_type": "code",
      "metadata": {
        "colab": {
          "base_uri": "https://localhost:8080/"
        },
        "id": "nOuY5oLjKSav",
        "outputId": "04f6fd13-2fb4-4544-b831-e633aab31efb"
      },
      "source": [
        "#Step 5: Evaluate your model performance\n",
        "bagreg_train_score = bagreg.score(X_train, y_train)\n",
        "bagreg_test_score = bagreg.score(X_test, y_test)\n",
        "print(bagreg_train_score)\n",
        "print(bagreg_test_score)"
      ],
      "execution_count": 68,
      "outputs": [
        {
          "output_type": "stream",
          "name": "stdout",
          "text": [
            "0.919732182879829\n",
            "0.53098411825262\n"
          ]
        }
      ]
    },
    {
      "cell_type": "markdown",
      "metadata": {
        "id": "mYTwYfy-K08R"
      },
      "source": [
        "Random Forest "
      ]
    },
    {
      "cell_type": "code",
      "metadata": {
        "id": "PN7tqjhiK6uJ"
      },
      "source": [
        "# Step 1: Import the model you want to use\n",
        "# In sklearn, all machine learning models are implemented as Python classes\n",
        "from sklearn.ensemble import RandomForestRegressor"
      ],
      "execution_count": 69,
      "outputs": []
    },
    {
      "cell_type": "code",
      "metadata": {
        "id": "0MALkGofLAti"
      },
      "source": [
        "# Step 2: Make an instance of the Model\n",
        "rf = RandomForestRegressor(random_state = 42)"
      ],
      "execution_count": 70,
      "outputs": []
    },
    {
      "cell_type": "code",
      "metadata": {
        "colab": {
          "base_uri": "https://localhost:8080/"
        },
        "id": "t3WHpFlULFgB",
        "outputId": "40f3add7-2efa-41c6-a3f8-f8c32fc6f7ab"
      },
      "source": [
        "# Looking at some hyperparameters that seem tunable\n",
        "rf"
      ],
      "execution_count": 71,
      "outputs": [
        {
          "output_type": "execute_result",
          "data": {
            "text/plain": [
              "RandomForestRegressor(bootstrap=True, ccp_alpha=0.0, criterion='mse',\n",
              "                      max_depth=None, max_features='auto', max_leaf_nodes=None,\n",
              "                      max_samples=None, min_impurity_decrease=0.0,\n",
              "                      min_impurity_split=None, min_samples_leaf=1,\n",
              "                      min_samples_split=2, min_weight_fraction_leaf=0.0,\n",
              "                      n_estimators=100, n_jobs=None, oob_score=False,\n",
              "                      random_state=42, verbose=0, warm_start=False)"
            ]
          },
          "metadata": {},
          "execution_count": 71
        }
      ]
    },
    {
      "cell_type": "code",
      "metadata": {
        "colab": {
          "base_uri": "https://localhost:8080/"
        },
        "id": "qqe4xpRCLKgH",
        "outputId": "d895adee-cd01-44b4-8e6f-4e7c7649cc7e"
      },
      "source": [
        "# Step 3: Training the model on the data, storing the information learned from the data\n",
        "# Model is learning the relationship between X and y\n",
        "rf.fit(X_train, y_train)"
      ],
      "execution_count": 72,
      "outputs": [
        {
          "output_type": "execute_result",
          "data": {
            "text/plain": [
              "RandomForestRegressor(bootstrap=True, ccp_alpha=0.0, criterion='mse',\n",
              "                      max_depth=None, max_features='auto', max_leaf_nodes=None,\n",
              "                      max_samples=None, min_impurity_decrease=0.0,\n",
              "                      min_impurity_split=None, min_samples_leaf=1,\n",
              "                      min_samples_split=2, min_weight_fraction_leaf=0.0,\n",
              "                      n_estimators=100, n_jobs=None, oob_score=False,\n",
              "                      random_state=42, verbose=0, warm_start=False)"
            ]
          },
          "metadata": {},
          "execution_count": 72
        }
      ]
    },
    {
      "cell_type": "code",
      "metadata": {
        "colab": {
          "base_uri": "https://localhost:8080/"
        },
        "id": "5QyqCJGtLSR6",
        "outputId": "09328c6b-9e1d-4de5-ffef-944ef4e15eca"
      },
      "source": [
        "# Step 4: Predict the values for y \n",
        "#(remember that this step just allows you to see the actual predictions)\n",
        "#(but is not necessary for evaluating or tuning your model)\n",
        "rf.predict(X_test)"
      ],
      "execution_count": 73,
      "outputs": [
        {
          "output_type": "execute_result",
          "data": {
            "text/plain": [
              "array([ 724.463638,  925.874796,  742.360342, ..., 3740.124842,\n",
              "       2171.57328 , 2322.170582])"
            ]
          },
          "metadata": {},
          "execution_count": 73
        }
      ]
    },
    {
      "cell_type": "code",
      "metadata": {
        "colab": {
          "base_uri": "https://localhost:8080/"
        },
        "id": "6Ndj9kjOLVtq",
        "outputId": "3f77790f-d66f-4069-e898-7ca4f8eab74f"
      },
      "source": [
        "# Step 5: Evaluate your model performance\n",
        "rf_train_score = rf.score(X_train, y_train)\n",
        "rf_test_score = rf.score(X_test, y_test)\n",
        "print(rf_train_score)\n",
        "print(rf_test_score)"
      ],
      "execution_count": 74,
      "outputs": [
        {
          "output_type": "stream",
          "name": "stdout",
          "text": [
            "0.9382483229748615\n",
            "0.5610936996645821\n"
          ]
        }
      ]
    },
    {
      "cell_type": "markdown",
      "metadata": {
        "id": "9JgQqCjiLbcp"
      },
      "source": [
        "The random forest model improved the r2 value compared to our simple decision tree! In our earlier output, the best r2 value we were able to achieve on our test set was only .594."
      ]
    },
    {
      "cell_type": "code",
      "metadata": {
        "colab": {
          "base_uri": "https://localhost:8080/"
        },
        "id": "NlBUrFHVLs16",
        "outputId": "fd641e10-3669-4437-e6b3-c72a2aef9b6e"
      },
      "source": [
        "# Step 6: Tune your model\n",
        "# Tuning the max_depth\n",
        "# can tune the max_depth we allow for each tree in our random forest.  \n",
        "#Let's set the max_depth to 5 and evaluate our results.\n",
        "rf_5 = RandomForestRegressor(max_depth = 5, random_state = 42)\n",
        "rf_5.fit(X_train, y_train)\n",
        "rf_5_train_score = rf_5.score(X_train, y_train)\n",
        "rf_5_test_score = rf_5.score(X_test, y_test)\n",
        "print(rf_5_train_score)\n",
        "print(rf_5_test_score)"
      ],
      "execution_count": 75,
      "outputs": [
        {
          "output_type": "stream",
          "name": "stdout",
          "text": [
            "0.6105400088479724\n",
            "0.6025963335888103\n"
          ]
        }
      ]
    },
    {
      "cell_type": "markdown",
      "metadata": {
        "id": "tiPtUQecMIJX"
      },
      "source": [
        "A max_depth of 5 was optimal for the single tree, this is NOT the case for the random forest since our test score marginally increased while our training score dramatically decreased.\n",
        "\n",
        "To see what the depth of each tree in your random forest was when the max_depth was unlimited, you can use the following code:"
      ]
    },
    {
      "cell_type": "code",
      "metadata": {
        "colab": {
          "base_uri": "https://localhost:8080/"
        },
        "id": "cGwDbFQyMZQn",
        "outputId": "3d9308a1-9e29-42d9-b9e3-9a8e1d2a75b3"
      },
      "source": [
        "[estimator.get_depth() for estimator in rf.estimators_]"
      ],
      "execution_count": 76,
      "outputs": [
        {
          "output_type": "execute_result",
          "data": {
            "text/plain": [
              "[33,\n",
              " 33,\n",
              " 40,\n",
              " 30,\n",
              " 36,\n",
              " 41,\n",
              " 33,\n",
              " 36,\n",
              " 32,\n",
              " 34,\n",
              " 35,\n",
              " 38,\n",
              " 34,\n",
              " 35,\n",
              " 33,\n",
              " 30,\n",
              " 38,\n",
              " 35,\n",
              " 32,\n",
              " 39,\n",
              " 32,\n",
              " 36,\n",
              " 34,\n",
              " 34,\n",
              " 33,\n",
              " 37,\n",
              " 39,\n",
              " 33,\n",
              " 33,\n",
              " 35,\n",
              " 35,\n",
              " 35,\n",
              " 35,\n",
              " 31,\n",
              " 34,\n",
              " 31,\n",
              " 38,\n",
              " 38,\n",
              " 35,\n",
              " 32,\n",
              " 34,\n",
              " 35,\n",
              " 35,\n",
              " 31,\n",
              " 33,\n",
              " 35,\n",
              " 35,\n",
              " 37,\n",
              " 33,\n",
              " 31,\n",
              " 36,\n",
              " 41,\n",
              " 33,\n",
              " 38,\n",
              " 34,\n",
              " 32,\n",
              " 35,\n",
              " 33,\n",
              " 30,\n",
              " 34,\n",
              " 34,\n",
              " 34,\n",
              " 31,\n",
              " 37,\n",
              " 36,\n",
              " 34,\n",
              " 35,\n",
              " 32,\n",
              " 31,\n",
              " 34,\n",
              " 37,\n",
              " 33,\n",
              " 40,\n",
              " 33,\n",
              " 31,\n",
              " 33,\n",
              " 36,\n",
              " 33,\n",
              " 39,\n",
              " 34,\n",
              " 37,\n",
              " 30,\n",
              " 37,\n",
              " 35,\n",
              " 36,\n",
              " 38,\n",
              " 34,\n",
              " 38,\n",
              " 36,\n",
              " 34,\n",
              " 36,\n",
              " 32,\n",
              " 32,\n",
              " 33,\n",
              " 34,\n",
              " 31,\n",
              " 34,\n",
              " 33,\n",
              " 33,\n",
              " 42]"
            ]
          },
          "metadata": {},
          "execution_count": 76
        }
      ]
    },
    {
      "cell_type": "markdown",
      "metadata": {
        "id": "HGor6dm5MjBL"
      },
      "source": [
        "Another tuning parameter is n_estimators (# of decision trees) , which represents the number of trees that should be grown.\n",
        "\n",
        "Let's see if we can improve our score by doubling the amount of trees from 100 (default parameter) to 200."
      ]
    },
    {
      "cell_type": "code",
      "metadata": {
        "colab": {
          "base_uri": "https://localhost:8080/"
        },
        "id": "Uao5Jhi_M2s1",
        "outputId": "d215674e-5298-4efd-dc46-7d3f55f0632d"
      },
      "source": [
        "# Try 200 trees\n",
        "rf_200 = RandomForestRegressor(n_estimators = 200, random_state = 42)\n",
        "# Fit the model\n",
        "rf_200.fit(X_train, y_train)\n",
        "# Obtain the scores\n",
        "rf_200_train_score = rf_200.score(X_train, y_train)\n",
        "rf_200_test_score = rf_200.score(X_test, y_test)\n",
        "print(rf_200_train_score)\n",
        "print(rf_200_test_score)"
      ],
      "execution_count": 77,
      "outputs": [
        {
          "output_type": "stream",
          "name": "stdout",
          "text": [
            "0.9394471339677474\n",
            "0.5606394321199984\n"
          ]
        }
      ]
    },
    {
      "cell_type": "markdown",
      "metadata": {
        "id": "bVHLpcyZNCy0"
      },
      "source": [
        "We hardly have any noticeable improvement with 200 trees compared to the default 100 trees."
      ]
    },
    {
      "cell_type": "markdown",
      "metadata": {
        "id": "A0T0uw45qa3j"
      },
      "source": [
        "RMSE comparison"
      ]
    },
    {
      "cell_type": "code",
      "metadata": {
        "colab": {
          "base_uri": "https://localhost:8080/"
        },
        "id": "NnY5VkLWqeYT",
        "outputId": "61c4ed68-8ff5-4d31-f41f-65af6b99a892"
      },
      "source": [
        "#RMSE\n",
        "from sklearn.metrics import mean_squared_error\n",
        "#RMSE lnreg\n",
        "print('lnreg Training RMSE:', np.sqrt(mean_squared_error(y_train, lnreg.predict(X_train))))\n",
        "print('lnreg Testing RMSE:' , np.sqrt(mean_squared_error(y_test, lnreg.predict(X_test))))\n",
        "#RMSE dec_tree\n",
        "print('dec_tree_5 Training RMSE:', np.sqrt(mean_squared_error(y_train, dec_tree_5.predict(X_train))))\n",
        "print('dec_tree_5 Testing RMSE:' , np.sqrt(mean_squared_error(y_test, dec_tree_5.predict(X_test))))\n",
        "#RMSE bagreg\n",
        "print('bagreg Training RMSE:', np.sqrt(mean_squared_error(y_train, bagreg.predict(X_train))))\n",
        "print('bagreg Testing RMSE:' , np.sqrt(mean_squared_error(y_test, bagreg.predict(X_test))))\n",
        "#RMSE rf\n",
        "print('rf_5  Training RMSE:', np.sqrt(mean_squared_error(y_train, rf_5.predict(X_train))))\n",
        "print('rf_5  Testing RMSE:' , np.sqrt(mean_squared_error(y_test, rf_5.predict(X_test))))"
      ],
      "execution_count": 78,
      "outputs": [
        {
          "output_type": "stream",
          "name": "stdout",
          "text": [
            "lnreg Training RMSE: 1139.1040937388918\n",
            "lnreg Testing RMSE: 1092.8630817241494\n",
            "dec_tree_5 Training RMSE: 1082.6461900869947\n",
            "dec_tree_5 Testing RMSE: 1057.4431299496734\n",
            "bagreg Training RMSE: 487.3900381277651\n",
            "bagreg Testing RMSE: 1137.5430389051805\n",
            "rf_5  Training RMSE: 1073.5872542554382\n",
            "rf_5  Testing RMSE: 1047.1044311431237\n"
          ]
        }
      ]
    },
    {
      "cell_type": "markdown",
      "metadata": {
        "id": "LQ2lOlkB9w_Q"
      },
      "source": [
        "The best low variance (represents error in training data set) and low bias (represents error in testing data set) is the Random Forrest Trees where for a rf depth of 5 training RMSE is 1073.58 and testing RMSE is 1047.10.  "
      ]
    },
    {
      "cell_type": "markdown",
      "metadata": {
        "id": "UQOshcAHTCWP"
      },
      "source": [
        "Feature importance"
      ]
    },
    {
      "cell_type": "code",
      "metadata": {
        "colab": {
          "base_uri": "https://localhost:8080/",
          "height": 1000
        },
        "id": "RpeEAOhJTEIr",
        "outputId": "e19e49cd-a983-462b-cd98-ce664ffdbf5b"
      },
      "source": [
        "data = {'Feature': X.columns, 'Importance': rf.feature_importances_}\n",
        "feature_importances = pd.DataFrame(data)\n",
        "feature_importances"
      ],
      "execution_count": 83,
      "outputs": [
        {
          "output_type": "execute_result",
          "data": {
            "text/html": [
              "<div>\n",
              "<style scoped>\n",
              "    .dataframe tbody tr th:only-of-type {\n",
              "        vertical-align: middle;\n",
              "    }\n",
              "\n",
              "    .dataframe tbody tr th {\n",
              "        vertical-align: top;\n",
              "    }\n",
              "\n",
              "    .dataframe thead th {\n",
              "        text-align: right;\n",
              "    }\n",
              "</style>\n",
              "<table border=\"1\" class=\"dataframe\">\n",
              "  <thead>\n",
              "    <tr style=\"text-align: right;\">\n",
              "      <th></th>\n",
              "      <th>Feature</th>\n",
              "      <th>Importance</th>\n",
              "    </tr>\n",
              "  </thead>\n",
              "  <tbody>\n",
              "    <tr>\n",
              "      <th>0</th>\n",
              "      <td>Item_Weight</td>\n",
              "      <td>0.052561</td>\n",
              "    </tr>\n",
              "    <tr>\n",
              "      <th>1</th>\n",
              "      <td>Item_Visibility</td>\n",
              "      <td>0.098699</td>\n",
              "    </tr>\n",
              "    <tr>\n",
              "      <th>2</th>\n",
              "      <td>Item_MRP</td>\n",
              "      <td>0.440869</td>\n",
              "    </tr>\n",
              "    <tr>\n",
              "      <th>3</th>\n",
              "      <td>Outlet_Establishment_Year</td>\n",
              "      <td>0.025007</td>\n",
              "    </tr>\n",
              "    <tr>\n",
              "      <th>4</th>\n",
              "      <td>Item_Fat_Content_Low Fat</td>\n",
              "      <td>0.005078</td>\n",
              "    </tr>\n",
              "    <tr>\n",
              "      <th>5</th>\n",
              "      <td>Item_Fat_Content_Regular</td>\n",
              "      <td>0.005041</td>\n",
              "    </tr>\n",
              "    <tr>\n",
              "      <th>6</th>\n",
              "      <td>Item_Type_Baking Goods</td>\n",
              "      <td>0.004053</td>\n",
              "    </tr>\n",
              "    <tr>\n",
              "      <th>7</th>\n",
              "      <td>Item_Type_Breads</td>\n",
              "      <td>0.002557</td>\n",
              "    </tr>\n",
              "    <tr>\n",
              "      <th>8</th>\n",
              "      <td>Item_Type_Breakfast</td>\n",
              "      <td>0.002617</td>\n",
              "    </tr>\n",
              "    <tr>\n",
              "      <th>9</th>\n",
              "      <td>Item_Type_Canned</td>\n",
              "      <td>0.004244</td>\n",
              "    </tr>\n",
              "    <tr>\n",
              "      <th>10</th>\n",
              "      <td>Item_Type_Dairy</td>\n",
              "      <td>0.006420</td>\n",
              "    </tr>\n",
              "    <tr>\n",
              "      <th>11</th>\n",
              "      <td>Item_Type_Frozen Foods</td>\n",
              "      <td>0.005615</td>\n",
              "    </tr>\n",
              "    <tr>\n",
              "      <th>12</th>\n",
              "      <td>Item_Type_Fruits and Vegetables</td>\n",
              "      <td>0.007997</td>\n",
              "    </tr>\n",
              "    <tr>\n",
              "      <th>13</th>\n",
              "      <td>Item_Type_Hard Drinks</td>\n",
              "      <td>0.002978</td>\n",
              "    </tr>\n",
              "    <tr>\n",
              "      <th>14</th>\n",
              "      <td>Item_Type_Health and Hygiene</td>\n",
              "      <td>0.004260</td>\n",
              "    </tr>\n",
              "    <tr>\n",
              "      <th>15</th>\n",
              "      <td>Item_Type_Household</td>\n",
              "      <td>0.006603</td>\n",
              "    </tr>\n",
              "    <tr>\n",
              "      <th>16</th>\n",
              "      <td>Item_Type_Meat</td>\n",
              "      <td>0.003553</td>\n",
              "    </tr>\n",
              "    <tr>\n",
              "      <th>17</th>\n",
              "      <td>Item_Type_Others</td>\n",
              "      <td>0.001642</td>\n",
              "    </tr>\n",
              "    <tr>\n",
              "      <th>18</th>\n",
              "      <td>Item_Type_Seafood</td>\n",
              "      <td>0.001693</td>\n",
              "    </tr>\n",
              "    <tr>\n",
              "      <th>19</th>\n",
              "      <td>Item_Type_Snack Foods</td>\n",
              "      <td>0.008218</td>\n",
              "    </tr>\n",
              "    <tr>\n",
              "      <th>20</th>\n",
              "      <td>Item_Type_Soft Drinks</td>\n",
              "      <td>0.005376</td>\n",
              "    </tr>\n",
              "    <tr>\n",
              "      <th>21</th>\n",
              "      <td>Item_Type_Starchy Foods</td>\n",
              "      <td>0.003400</td>\n",
              "    </tr>\n",
              "    <tr>\n",
              "      <th>22</th>\n",
              "      <td>Outlet_Identifier_OUT010</td>\n",
              "      <td>0.000010</td>\n",
              "    </tr>\n",
              "    <tr>\n",
              "      <th>23</th>\n",
              "      <td>Outlet_Identifier_OUT013</td>\n",
              "      <td>0.001641</td>\n",
              "    </tr>\n",
              "    <tr>\n",
              "      <th>24</th>\n",
              "      <td>Outlet_Identifier_OUT017</td>\n",
              "      <td>0.003349</td>\n",
              "    </tr>\n",
              "    <tr>\n",
              "      <th>25</th>\n",
              "      <td>Outlet_Identifier_OUT018</td>\n",
              "      <td>0.001176</td>\n",
              "    </tr>\n",
              "    <tr>\n",
              "      <th>26</th>\n",
              "      <td>Outlet_Identifier_OUT019</td>\n",
              "      <td>0.000011</td>\n",
              "    </tr>\n",
              "    <tr>\n",
              "      <th>27</th>\n",
              "      <td>Outlet_Identifier_OUT027</td>\n",
              "      <td>0.026821</td>\n",
              "    </tr>\n",
              "    <tr>\n",
              "      <th>28</th>\n",
              "      <td>Outlet_Identifier_OUT035</td>\n",
              "      <td>0.004200</td>\n",
              "    </tr>\n",
              "    <tr>\n",
              "      <th>29</th>\n",
              "      <td>Outlet_Identifier_OUT045</td>\n",
              "      <td>0.004172</td>\n",
              "    </tr>\n",
              "    <tr>\n",
              "      <th>30</th>\n",
              "      <td>Outlet_Identifier_OUT046</td>\n",
              "      <td>0.003665</td>\n",
              "    </tr>\n",
              "    <tr>\n",
              "      <th>31</th>\n",
              "      <td>Outlet_Identifier_OUT049</td>\n",
              "      <td>0.003208</td>\n",
              "    </tr>\n",
              "    <tr>\n",
              "      <th>32</th>\n",
              "      <td>Outlet_Size_High</td>\n",
              "      <td>0.001676</td>\n",
              "    </tr>\n",
              "    <tr>\n",
              "      <th>33</th>\n",
              "      <td>Outlet_Size_Medium</td>\n",
              "      <td>0.002737</td>\n",
              "    </tr>\n",
              "    <tr>\n",
              "      <th>34</th>\n",
              "      <td>Outlet_Size_Small</td>\n",
              "      <td>0.004012</td>\n",
              "    </tr>\n",
              "    <tr>\n",
              "      <th>35</th>\n",
              "      <td>Outlet_Size_unknown</td>\n",
              "      <td>0.002937</td>\n",
              "    </tr>\n",
              "    <tr>\n",
              "      <th>36</th>\n",
              "      <td>Outlet_Location_Type_Tier 1</td>\n",
              "      <td>0.003258</td>\n",
              "    </tr>\n",
              "    <tr>\n",
              "      <th>37</th>\n",
              "      <td>Outlet_Location_Type_Tier 2</td>\n",
              "      <td>0.002828</td>\n",
              "    </tr>\n",
              "    <tr>\n",
              "      <th>38</th>\n",
              "      <td>Outlet_Location_Type_Tier 3</td>\n",
              "      <td>0.002761</td>\n",
              "    </tr>\n",
              "    <tr>\n",
              "      <th>39</th>\n",
              "      <td>Outlet_Type_Grocery Store</td>\n",
              "      <td>0.191730</td>\n",
              "    </tr>\n",
              "    <tr>\n",
              "      <th>40</th>\n",
              "      <td>Outlet_Type_Supermarket Type1</td>\n",
              "      <td>0.001664</td>\n",
              "    </tr>\n",
              "    <tr>\n",
              "      <th>41</th>\n",
              "      <td>Outlet_Type_Supermarket Type2</td>\n",
              "      <td>0.000994</td>\n",
              "    </tr>\n",
              "    <tr>\n",
              "      <th>42</th>\n",
              "      <td>Outlet_Type_Supermarket Type3</td>\n",
              "      <td>0.038669</td>\n",
              "    </tr>\n",
              "  </tbody>\n",
              "</table>\n",
              "</div>"
            ],
            "text/plain": [
              "                            Feature  Importance\n",
              "0                       Item_Weight    0.052561\n",
              "1                   Item_Visibility    0.098699\n",
              "2                          Item_MRP    0.440869\n",
              "3         Outlet_Establishment_Year    0.025007\n",
              "4          Item_Fat_Content_Low Fat    0.005078\n",
              "5          Item_Fat_Content_Regular    0.005041\n",
              "6            Item_Type_Baking Goods    0.004053\n",
              "7                  Item_Type_Breads    0.002557\n",
              "8               Item_Type_Breakfast    0.002617\n",
              "9                  Item_Type_Canned    0.004244\n",
              "10                  Item_Type_Dairy    0.006420\n",
              "11           Item_Type_Frozen Foods    0.005615\n",
              "12  Item_Type_Fruits and Vegetables    0.007997\n",
              "13            Item_Type_Hard Drinks    0.002978\n",
              "14     Item_Type_Health and Hygiene    0.004260\n",
              "15              Item_Type_Household    0.006603\n",
              "16                   Item_Type_Meat    0.003553\n",
              "17                 Item_Type_Others    0.001642\n",
              "18                Item_Type_Seafood    0.001693\n",
              "19            Item_Type_Snack Foods    0.008218\n",
              "20            Item_Type_Soft Drinks    0.005376\n",
              "21          Item_Type_Starchy Foods    0.003400\n",
              "22         Outlet_Identifier_OUT010    0.000010\n",
              "23         Outlet_Identifier_OUT013    0.001641\n",
              "24         Outlet_Identifier_OUT017    0.003349\n",
              "25         Outlet_Identifier_OUT018    0.001176\n",
              "26         Outlet_Identifier_OUT019    0.000011\n",
              "27         Outlet_Identifier_OUT027    0.026821\n",
              "28         Outlet_Identifier_OUT035    0.004200\n",
              "29         Outlet_Identifier_OUT045    0.004172\n",
              "30         Outlet_Identifier_OUT046    0.003665\n",
              "31         Outlet_Identifier_OUT049    0.003208\n",
              "32                 Outlet_Size_High    0.001676\n",
              "33               Outlet_Size_Medium    0.002737\n",
              "34                Outlet_Size_Small    0.004012\n",
              "35              Outlet_Size_unknown    0.002937\n",
              "36      Outlet_Location_Type_Tier 1    0.003258\n",
              "37      Outlet_Location_Type_Tier 2    0.002828\n",
              "38      Outlet_Location_Type_Tier 3    0.002761\n",
              "39        Outlet_Type_Grocery Store    0.191730\n",
              "40    Outlet_Type_Supermarket Type1    0.001664\n",
              "41    Outlet_Type_Supermarket Type2    0.000994\n",
              "42    Outlet_Type_Supermarket Type3    0.038669"
            ]
          },
          "metadata": {},
          "execution_count": 83
        }
      ]
    },
    {
      "cell_type": "code",
      "metadata": {
        "colab": {
          "base_uri": "https://localhost:8080/",
          "height": 667
        },
        "id": "c79PpAp9TKkZ",
        "outputId": "6ba1af27-03d5-4b2f-ab58-48da00691ed2"
      },
      "source": [
        "feature_importances.sort_values(by = 'Importance', inplace = True)\n",
        "plt.figure(figsize = (12, 12))\n",
        "plt.barh(feature_importances['Feature'], feature_importances['Importance'])\n",
        "plt.xlabel('r')\n",
        "plt.ylabel('Feature')\n",
        "plt.title('Feature Importance')\n",
        "plt.show();"
      ],
      "execution_count": 89,
      "outputs": [
        {
          "output_type": "display_data",
          "data": {
            "image/png": "[encoded data removed]",
            "text/plain": [
              "<Figure size 864x864 with 1 Axes>"
            ]
          },
          "metadata": {
            "needs_background": "light"
          }
        }
      ]
    }
  ]
}